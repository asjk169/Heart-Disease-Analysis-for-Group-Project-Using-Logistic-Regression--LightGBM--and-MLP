{
 "cells": [
  {
   "cell_type": "code",
   "execution_count": 1,
   "metadata": {},
   "outputs": [
    {
     "name": "stderr",
     "output_type": "stream",
     "text": [
      "[I 2025-04-14 19:14:03,957] A new study created in memory with name: no-name-2384558a-d34f-4c52-9545-678a664c4e5d\n"
     ]
    },
    {
     "name": "stdout",
     "output_type": "stream",
     "text": [
      "Training until validation scores don't improve for 50 rounds\n"
     ]
    },
    {
     "name": "stderr",
     "output_type": "stream",
     "text": [
      "[I 2025-04-14 19:14:06,008] Trial 0 finished with value: 0.41896620657269046 and parameters: {'n_estimators': 13570, 'learning_rate': 0.044078005775466896, 'max_depth': 12, 'num_leaves': 31, 'min_child_samples': 45, 'subsample': 0.7819898490051065, 'colsample_bytree': 0.6960934748335856, 'reg_alpha': 0.00013442173776006218, 'reg_lambda': 4.356931466704218e-08}. Best is trial 0 with value: 0.41896620657269046.\n"
     ]
    },
    {
     "name": "stdout",
     "output_type": "stream",
     "text": [
      "Early stopping, best iteration is:\n",
      "[189]\tvalid_0's average_precision: 0.418966\tvalid_0's binary_logloss: 0.148506\n",
      "Training until validation scores don't improve for 50 rounds\n"
     ]
    },
    {
     "name": "stderr",
     "output_type": "stream",
     "text": [
      "[I 2025-04-14 19:14:08,104] Trial 1 finished with value: 0.41671648696538677 and parameters: {'n_estimators': 4640, 'learning_rate': 0.04466072834819713, 'max_depth': 30, 'num_leaves': 144, 'min_child_samples': 16, 'subsample': 0.7478646014723728, 'colsample_bytree': 0.7348771706186736, 'reg_alpha': 0.32068676018372105, 'reg_lambda': 0.404623088499892}. Best is trial 0 with value: 0.41896620657269046.\n"
     ]
    },
    {
     "name": "stdout",
     "output_type": "stream",
     "text": [
      "Early stopping, best iteration is:\n",
      "[116]\tvalid_0's average_precision: 0.416716\tvalid_0's binary_logloss: 0.148769\n",
      "Training until validation scores don't improve for 50 rounds\n",
      "Early stopping, best iteration is:\n",
      "[234]\tvalid_0's average_precision: 0.418583\tvalid_0's binary_logloss: 0.148679\n"
     ]
    },
    {
     "name": "stderr",
     "output_type": "stream",
     "text": [
      "[I 2025-04-14 19:14:11,263] Trial 2 finished with value: 0.4185830213313421 and parameters: {'n_estimators': 14663, 'learning_rate': 0.024403110828747427, 'max_depth': 11, 'num_leaves': 121, 'min_child_samples': 18, 'subsample': 0.5164906071316954, 'colsample_bytree': 0.7650976317210525, 'reg_alpha': 1.6738173674084577e-06, 'reg_lambda': 0.0017347947582594374}. Best is trial 0 with value: 0.41896620657269046.\n"
     ]
    },
    {
     "name": "stdout",
     "output_type": "stream",
     "text": [
      "Training until validation scores don't improve for 50 rounds\n",
      "Early stopping, best iteration is:\n",
      "[311]\tvalid_0's average_precision: 0.416706\tvalid_0's binary_logloss: 0.149043\n"
     ]
    },
    {
     "name": "stderr",
     "output_type": "stream",
     "text": [
      "[I 2025-04-14 19:14:14,854] Trial 3 finished with value: 0.416706117499303 and parameters: {'n_estimators': 10334, 'learning_rate': 0.019697262908823347, 'max_depth': 29, 'num_leaves': 79, 'min_child_samples': 31, 'subsample': 0.7229341440605966, 'colsample_bytree': 0.9835750739286464, 'reg_alpha': 1.3371065526013347e-07, 'reg_lambda': 0.0017214714052100851}. Best is trial 0 with value: 0.41896620657269046.\n"
     ]
    },
    {
     "name": "stdout",
     "output_type": "stream",
     "text": [
      "Training until validation scores don't improve for 50 rounds\n"
     ]
    },
    {
     "name": "stderr",
     "output_type": "stream",
     "text": [
      "[I 2025-04-14 19:14:16,455] Trial 4 finished with value: 0.4190305121873449 and parameters: {'n_estimators': 4784, 'learning_rate': 0.06655015952515682, 'max_depth': 27, 'num_leaves': 50, 'min_child_samples': 32, 'subsample': 0.5791597319460737, 'colsample_bytree': 0.6344924560160502, 'reg_alpha': 1.715313912426001e-07, 'reg_lambda': 2.5803743331108726}. Best is trial 4 with value: 0.4190305121873449.\n"
     ]
    },
    {
     "name": "stdout",
     "output_type": "stream",
     "text": [
      "Early stopping, best iteration is:\n",
      "[101]\tvalid_0's average_precision: 0.419031\tvalid_0's binary_logloss: 0.148403\n",
      "Training until validation scores don't improve for 50 rounds\n"
     ]
    },
    {
     "name": "stderr",
     "output_type": "stream",
     "text": [
      "[I 2025-04-14 19:14:19,568] Trial 5 finished with value: 0.4168079638659604 and parameters: {'n_estimators': 14225, 'learning_rate': 0.011623529248253014, 'max_depth': 6, 'num_leaves': 40, 'min_child_samples': 8, 'subsample': 0.79606729972302, 'colsample_bytree': 0.9898403593227836, 'reg_alpha': 0.8591851207783364, 'reg_lambda': 2.1869048374873328e-07}. Best is trial 4 with value: 0.4190305121873449.\n"
     ]
    },
    {
     "name": "stdout",
     "output_type": "stream",
     "text": [
      "Early stopping, best iteration is:\n",
      "[335]\tvalid_0's average_precision: 0.416808\tvalid_0's binary_logloss: 0.14911\n",
      "Training until validation scores don't improve for 50 rounds\n"
     ]
    },
    {
     "name": "stderr",
     "output_type": "stream",
     "text": [
      "[I 2025-04-14 19:14:21,305] Trial 6 finished with value: 0.41495687051735497 and parameters: {'n_estimators': 9337, 'learning_rate': 0.04721115636136258, 'max_depth': 27, 'num_leaves': 117, 'min_child_samples': 13, 'subsample': 0.5063124704890802, 'colsample_bytree': 0.9576627312253867, 'reg_alpha': 1.1073347072693797e-06, 'reg_lambda': 2.8255155375530198e-08}. Best is trial 4 with value: 0.4190305121873449.\n"
     ]
    },
    {
     "name": "stdout",
     "output_type": "stream",
     "text": [
      "Early stopping, best iteration is:\n",
      "[96]\tvalid_0's average_precision: 0.414957\tvalid_0's binary_logloss: 0.14924\n",
      "Training until validation scores don't improve for 50 rounds\n"
     ]
    },
    {
     "name": "stderr",
     "output_type": "stream",
     "text": [
      "[I 2025-04-14 19:14:22,398] Trial 7 finished with value: 0.4177825950819232 and parameters: {'n_estimators': 2009, 'learning_rate': 0.08236337323908445, 'max_depth': 13, 'num_leaves': 21, 'min_child_samples': 41, 'subsample': 0.6260296853515337, 'colsample_bytree': 0.7508075777924348, 'reg_alpha': 4.768119090046028e-07, 'reg_lambda': 7.398072632700383e-07}. Best is trial 4 with value: 0.4190305121873449.\n"
     ]
    },
    {
     "name": "stdout",
     "output_type": "stream",
     "text": [
      "Early stopping, best iteration is:\n",
      "[75]\tvalid_0's average_precision: 0.417783\tvalid_0's binary_logloss: 0.148657\n",
      "Training until validation scores don't improve for 50 rounds\n",
      "Early stopping, best iteration is:\n",
      "[178]\tvalid_0's average_precision: 0.416723\tvalid_0's binary_logloss: 0.148464\n"
     ]
    },
    {
     "name": "stderr",
     "output_type": "stream",
     "text": [
      "[I 2025-04-14 19:14:25,536] Trial 8 finished with value: 0.41672311963439396 and parameters: {'n_estimators': 18978, 'learning_rate': 0.03743989758666194, 'max_depth': 12, 'num_leaves': 142, 'min_child_samples': 35, 'subsample': 0.7120730049565396, 'colsample_bytree': 0.5542426859015137, 'reg_alpha': 0.0005010318783169006, 'reg_lambda': 2.128969530084442e-07}. Best is trial 4 with value: 0.4190305121873449.\n"
     ]
    },
    {
     "name": "stdout",
     "output_type": "stream",
     "text": [
      "Training until validation scores don't improve for 50 rounds\n"
     ]
    },
    {
     "name": "stderr",
     "output_type": "stream",
     "text": [
      "[I 2025-04-14 19:14:28,214] Trial 9 finished with value: 0.41646519175358127 and parameters: {'n_estimators': 18558, 'learning_rate': 0.02914022986292073, 'max_depth': 13, 'num_leaves': 89, 'min_child_samples': 25, 'subsample': 0.6124406777384479, 'colsample_bytree': 0.9480139277087487, 'reg_alpha': 3.340720785053467e-07, 'reg_lambda': 3.0184009131974263}. Best is trial 4 with value: 0.4190305121873449.\n"
     ]
    },
    {
     "name": "stdout",
     "output_type": "stream",
     "text": [
      "Early stopping, best iteration is:\n",
      "[169]\tvalid_0's average_precision: 0.416465\tvalid_0's binary_logloss: 0.149018\n",
      "Training until validation scores don't improve for 50 rounds\n"
     ]
    },
    {
     "name": "stderr",
     "output_type": "stream",
     "text": [
      "[I 2025-04-14 19:14:29,870] Trial 10 finished with value: 0.4147591712306507 and parameters: {'n_estimators': 5600, 'learning_rate': 0.09257594148930084, 'max_depth': 22, 'num_leaves': 58, 'min_child_samples': 49, 'subsample': 0.9933511831020967, 'colsample_bytree': 0.5283415761061335, 'reg_alpha': 0.00039986215814493027, 'reg_lambda': 0.08532945138375019}. Best is trial 4 with value: 0.4190305121873449.\n"
     ]
    },
    {
     "name": "stdout",
     "output_type": "stream",
     "text": [
      "Early stopping, best iteration is:\n",
      "[83]\tvalid_0's average_precision: 0.414759\tvalid_0's binary_logloss: 0.148603\n",
      "Training until validation scores don't improve for 50 rounds\n"
     ]
    },
    {
     "name": "stderr",
     "output_type": "stream",
     "text": [
      "[I 2025-04-14 19:14:31,448] Trial 11 finished with value: 0.4184035979805622 and parameters: {'n_estimators': 9767, 'learning_rate': 0.06347932115646195, 'max_depth': 19, 'num_leaves': 21, 'min_child_samples': 50, 'subsample': 0.8722005911921854, 'colsample_bytree': 0.6527223619051483, 'reg_alpha': 3.7950535444721446e-05, 'reg_lambda': 3.9410518065468275e-05}. Best is trial 4 with value: 0.4190305121873449.\n"
     ]
    },
    {
     "name": "stdout",
     "output_type": "stream",
     "text": [
      "Early stopping, best iteration is:\n",
      "[129]\tvalid_0's average_precision: 0.418404\tvalid_0's binary_logloss: 0.148511\n",
      "Training until validation scores don't improve for 50 rounds\n"
     ]
    },
    {
     "name": "stderr",
     "output_type": "stream",
     "text": [
      "[I 2025-04-14 19:14:33,137] Trial 12 finished with value: 0.41775913307880597 and parameters: {'n_estimators': 1047, 'learning_rate': 0.06000580374980592, 'max_depth': 23, 'num_leaves': 51, 'min_child_samples': 40, 'subsample': 0.8499772788276789, 'colsample_bytree': 0.6378586527603922, 'reg_alpha': 1.3637282827844576e-08, 'reg_lambda': 2.1421899174793017e-05}. Best is trial 4 with value: 0.4190305121873449.\n"
     ]
    },
    {
     "name": "stdout",
     "output_type": "stream",
     "text": [
      "Early stopping, best iteration is:\n",
      "[111]\tvalid_0's average_precision: 0.417759\tvalid_0's binary_logloss: 0.148395\n",
      "Training until validation scores don't improve for 50 rounds\n"
     ]
    },
    {
     "name": "stderr",
     "output_type": "stream",
     "text": [
      "[I 2025-04-14 19:14:34,452] Trial 13 finished with value: 0.41821428868222044 and parameters: {'n_estimators': 12919, 'learning_rate': 0.06466020444784805, 'max_depth': 5, 'num_leaves': 69, 'min_child_samples': 25, 'subsample': 0.6351830588474838, 'colsample_bytree': 0.8317761014435208, 'reg_alpha': 0.015287814907392668, 'reg_lambda': 0.05247499581768201}. Best is trial 4 with value: 0.4190305121873449.\n"
     ]
    },
    {
     "name": "stdout",
     "output_type": "stream",
     "text": [
      "Early stopping, best iteration is:\n",
      "[108]\tvalid_0's average_precision: 0.418214\tvalid_0's binary_logloss: 0.148553\n",
      "Training until validation scores don't improve for 50 rounds\n",
      "Early stopping, best iteration is:\n",
      "[506]\tvalid_0's average_precision: 0.420747\tvalid_0's binary_logloss: 0.148202\n"
     ]
    },
    {
     "name": "stderr",
     "output_type": "stream",
     "text": [
      "[I 2025-04-14 19:14:39,560] Trial 14 finished with value: 0.42074661952343784 and parameters: {'n_estimators': 6310, 'learning_rate': 0.01551532245443876, 'max_depth': 17, 'num_leaves': 39, 'min_child_samples': 42, 'subsample': 0.9480053516222148, 'colsample_bytree': 0.6302999286230969, 'reg_alpha': 2.4704338910476776e-05, 'reg_lambda': 1.0297327728275634e-05}. Best is trial 14 with value: 0.42074661952343784.\n"
     ]
    },
    {
     "name": "stdout",
     "output_type": "stream",
     "text": [
      "Training until validation scores don't improve for 50 rounds\n",
      "Early stopping, best iteration is:\n",
      "[552]\tvalid_0's average_precision: 0.420643\tvalid_0's binary_logloss: 0.148212\n"
     ]
    },
    {
     "name": "stderr",
     "output_type": "stream",
     "text": [
      "[I 2025-04-14 19:14:45,820] Trial 15 finished with value: 0.4206431191846596 and parameters: {'n_estimators': 6322, 'learning_rate': 0.013689379854867187, 'max_depth': 17, 'num_leaves': 47, 'min_child_samples': 34, 'subsample': 0.9945979214752235, 'colsample_bytree': 0.6014183382543657, 'reg_alpha': 1.2410030962080865e-05, 'reg_lambda': 1.799030392699504e-05}. Best is trial 14 with value: 0.42074661952343784.\n"
     ]
    },
    {
     "name": "stdout",
     "output_type": "stream",
     "text": [
      "Training until validation scores don't improve for 50 rounds\n",
      "Early stopping, best iteration is:\n",
      "[425]\tvalid_0's average_precision: 0.420317\tvalid_0's binary_logloss: 0.148516\n"
     ]
    },
    {
     "name": "stderr",
     "output_type": "stream",
     "text": [
      "[I 2025-04-14 19:14:51,879] Trial 16 finished with value: 0.4203170509097629 and parameters: {'n_estimators': 6858, 'learning_rate': 0.010101824692066873, 'max_depth': 17, 'num_leaves': 99, 'min_child_samples': 38, 'subsample': 0.9949081029013438, 'colsample_bytree': 0.5621273071509387, 'reg_alpha': 1.421555162743366e-05, 'reg_lambda': 7.896800603141274e-06}. Best is trial 14 with value: 0.42074661952343784.\n"
     ]
    },
    {
     "name": "stdout",
     "output_type": "stream",
     "text": [
      "Training until validation scores don't improve for 50 rounds\n",
      "Early stopping, best iteration is:\n",
      "[432]\tvalid_0's average_precision: 0.421654\tvalid_0's binary_logloss: 0.148129\n"
     ]
    },
    {
     "name": "stderr",
     "output_type": "stream",
     "text": [
      "[I 2025-04-14 19:14:57,256] Trial 17 finished with value: 0.42165350671819324 and parameters: {'n_estimators': 7672, 'learning_rate': 0.014890106164067033, 'max_depth': 17, 'num_leaves': 65, 'min_child_samples': 44, 'subsample': 0.9114729466028797, 'colsample_bytree': 0.5955787550959047, 'reg_alpha': 0.004468462802856279, 'reg_lambda': 0.0002910947895519117}. Best is trial 17 with value: 0.42165350671819324.\n"
     ]
    },
    {
     "name": "stdout",
     "output_type": "stream",
     "text": [
      "Training until validation scores don't improve for 50 rounds\n",
      "Early stopping, best iteration is:\n",
      "[304]\tvalid_0's average_precision: 0.420177\tvalid_0's binary_logloss: 0.148304\n"
     ]
    },
    {
     "name": "stderr",
     "output_type": "stream",
     "text": [
      "[I 2025-04-14 19:15:01,465] Trial 18 finished with value: 0.4201773276359408 and parameters: {'n_estimators': 7781, 'learning_rate': 0.016915490282562614, 'max_depth': 20, 'num_leaves': 63, 'min_child_samples': 44, 'subsample': 0.9180297545514697, 'colsample_bytree': 0.5075259570834414, 'reg_alpha': 0.006743422776078418, 'reg_lambda': 0.0005709553801337696}. Best is trial 17 with value: 0.42165350671819324.\n"
     ]
    },
    {
     "name": "stdout",
     "output_type": "stream",
     "text": [
      "Training until validation scores don't improve for 50 rounds\n",
      "Early stopping, best iteration is:\n",
      "[412]\tvalid_0's average_precision: 0.418982\tvalid_0's binary_logloss: 0.148578\n"
     ]
    },
    {
     "name": "stderr",
     "output_type": "stream",
     "text": [
      "[I 2025-04-14 19:15:05,941] Trial 19 finished with value: 0.4189823142316285 and parameters: {'n_estimators': 3752, 'learning_rate': 0.015799177789323667, 'max_depth': 15, 'num_leaves': 75, 'min_child_samples': 45, 'subsample': 0.930506500463389, 'colsample_bytree': 0.833068877376289, 'reg_alpha': 0.015747414317381206, 'reg_lambda': 0.006718785082131332}. Best is trial 17 with value: 0.42165350671819324.\n"
     ]
    },
    {
     "name": "stdout",
     "output_type": "stream",
     "text": [
      "Training until validation scores don't improve for 50 rounds\n",
      "Early stopping, best iteration is:\n",
      "[254]\tvalid_0's average_precision: 0.419558\tvalid_0's binary_logloss: 0.148325\n"
     ]
    },
    {
     "name": "stderr",
     "output_type": "stream",
     "text": [
      "[I 2025-04-14 19:15:09,285] Trial 20 finished with value: 0.41955802439517226 and parameters: {'n_estimators': 11608, 'learning_rate': 0.023646107149413148, 'max_depth': 9, 'num_leaves': 97, 'min_child_samples': 26, 'subsample': 0.89973069508499, 'colsample_bytree': 0.6828015998554405, 'reg_alpha': 8.769979246074643, 'reg_lambda': 9.706158215080561e-05}. Best is trial 17 with value: 0.42165350671819324.\n"
     ]
    },
    {
     "name": "stdout",
     "output_type": "stream",
     "text": [
      "Training until validation scores don't improve for 50 rounds\n",
      "Early stopping, best iteration is:\n",
      "[576]\tvalid_0's average_precision: 0.421171\tvalid_0's binary_logloss: 0.148149\n"
     ]
    },
    {
     "name": "stderr",
     "output_type": "stream",
     "text": [
      "[I 2025-04-14 19:15:15,758] Trial 21 finished with value: 0.4211709079946295 and parameters: {'n_estimators': 7559, 'learning_rate': 0.013788037892268155, 'max_depth': 16, 'num_leaves': 42, 'min_child_samples': 36, 'subsample': 0.9549894802170794, 'colsample_bytree': 0.5902867465472557, 'reg_alpha': 1.133054947908544e-05, 'reg_lambda': 2.598038917711931e-06}. Best is trial 17 with value: 0.42165350671819324.\n"
     ]
    },
    {
     "name": "stdout",
     "output_type": "stream",
     "text": [
      "Training until validation scores don't improve for 50 rounds\n",
      "Early stopping, best iteration is:\n",
      "[631]\tvalid_0's average_precision: 0.421365\tvalid_0's binary_logloss: 0.148167\n"
     ]
    },
    {
     "name": "stderr",
     "output_type": "stream",
     "text": [
      "[I 2025-04-14 19:15:22,733] Trial 22 finished with value: 0.4213646847037202 and parameters: {'n_estimators': 8288, 'learning_rate': 0.012224584765058878, 'max_depth': 15, 'num_leaves': 35, 'min_child_samples': 38, 'subsample': 0.9545215969454701, 'colsample_bytree': 0.5867197061741067, 'reg_alpha': 0.0027170985146542774, 'reg_lambda': 2.483481374847144e-06}. Best is trial 17 with value: 0.42165350671819324.\n"
     ]
    },
    {
     "name": "stdout",
     "output_type": "stream",
     "text": [
      "Training until validation scores don't improve for 50 rounds\n",
      "Early stopping, best iteration is:\n",
      "[684]\tvalid_0's average_precision: 0.420744\tvalid_0's binary_logloss: 0.148147\n"
     ]
    },
    {
     "name": "stderr",
     "output_type": "stream",
     "text": [
      "[I 2025-04-14 19:15:29,858] Trial 23 finished with value: 0.42074423368751845 and parameters: {'n_estimators': 8045, 'learning_rate': 0.013078743274702705, 'max_depth': 21, 'num_leaves': 31, 'min_child_samples': 37, 'subsample': 0.8336774901276716, 'colsample_bytree': 0.5839568437680325, 'reg_alpha': 0.0015982274640440404, 'reg_lambda': 1.2289356143565316e-06}. Best is trial 17 with value: 0.42165350671819324.\n"
     ]
    },
    {
     "name": "stdout",
     "output_type": "stream",
     "text": [
      "Training until validation scores don't improve for 50 rounds\n",
      "Early stopping, best iteration is:\n",
      "[577]\tvalid_0's average_precision: 0.421255\tvalid_0's binary_logloss: 0.148169\n"
     ]
    },
    {
     "name": "stderr",
     "output_type": "stream",
     "text": [
      "[I 2025-04-14 19:15:36,643] Trial 24 finished with value: 0.4212546296164861 and parameters: {'n_estimators': 8473, 'learning_rate': 0.010142393972384221, 'max_depth': 9, 'num_leaves': 60, 'min_child_samples': 29, 'subsample': 0.9559640856753098, 'colsample_bytree': 0.5808532848485, 'reg_alpha': 0.13268819602332532, 'reg_lambda': 0.00010477380415000168}. Best is trial 17 with value: 0.42165350671819324.\n"
     ]
    },
    {
     "name": "stdout",
     "output_type": "stream",
     "text": [
      "Training until validation scores don't improve for 50 rounds\n",
      "Early stopping, best iteration is:\n",
      "[760]\tvalid_0's average_precision: 0.420324\tvalid_0's binary_logloss: 0.148043\n"
     ]
    },
    {
     "name": "stderr",
     "output_type": "stream",
     "text": [
      "[I 2025-04-14 19:15:45,893] Trial 25 finished with value: 0.42032409592817044 and parameters: {'n_estimators': 16199, 'learning_rate': 0.010218727159466883, 'max_depth': 8, 'num_leaves': 59, 'min_child_samples': 29, 'subsample': 0.8873194980296903, 'colsample_bytree': 0.535324794281163, 'reg_alpha': 0.1617645135527389, 'reg_lambda': 0.0002772461106862974}. Best is trial 17 with value: 0.42165350671819324.\n"
     ]
    },
    {
     "name": "stdout",
     "output_type": "stream",
     "text": [
      "Training until validation scores don't improve for 50 rounds\n",
      "Early stopping, best iteration is:\n",
      "[329]\tvalid_0's average_precision: 0.421398\tvalid_0's binary_logloss: 0.148253\n"
     ]
    },
    {
     "name": "stderr",
     "output_type": "stream",
     "text": [
      "[I 2025-04-14 19:15:50,751] Trial 26 finished with value: 0.421397871455959 and parameters: {'n_estimators': 10927, 'learning_rate': 0.019585453168534345, 'max_depth': 9, 'num_leaves': 68, 'min_child_samples': 21, 'subsample': 0.8230076078165608, 'colsample_bytree': 0.68846252026883, 'reg_alpha': 0.04935992469741473, 'reg_lambda': 0.00011233035466473105}. Best is trial 17 with value: 0.42165350671819324.\n"
     ]
    },
    {
     "name": "stdout",
     "output_type": "stream",
     "text": [
      "Training until validation scores don't improve for 50 rounds\n",
      "Early stopping, best iteration is:\n",
      "[279]\tvalid_0's average_precision: 0.419463\tvalid_0's binary_logloss: 0.148428\n"
     ]
    },
    {
     "name": "stderr",
     "output_type": "stream",
     "text": [
      "[I 2025-04-14 19:15:54,095] Trial 27 finished with value: 0.4194627539561948 and parameters: {'n_estimators': 10993, 'learning_rate': 0.023534774017934378, 'max_depth': 15, 'num_leaves': 88, 'min_child_samples': 20, 'subsample': 0.8143094107632743, 'colsample_bytree': 0.7062979738116864, 'reg_alpha': 0.004516190037580216, 'reg_lambda': 0.009720578510769788}. Best is trial 17 with value: 0.42165350671819324.\n"
     ]
    },
    {
     "name": "stdout",
     "output_type": "stream",
     "text": [
      "Training until validation scores don't improve for 50 rounds\n",
      "Early stopping, best iteration is:\n",
      "[309]\tvalid_0's average_precision: 0.419492\tvalid_0's binary_logloss: 0.148469\n"
     ]
    },
    {
     "name": "stderr",
     "output_type": "stream",
     "text": [
      "[I 2025-04-14 19:15:57,515] Trial 28 finished with value: 0.41949192213217934 and parameters: {'n_estimators': 12536, 'learning_rate': 0.020277459738674793, 'max_depth': 7, 'num_leaves': 71, 'min_child_samples': 22, 'subsample': 0.8636720457885764, 'colsample_bytree': 0.8039154086412249, 'reg_alpha': 0.04759677381237716, 'reg_lambda': 0.000324417654711828}. Best is trial 17 with value: 0.42165350671819324.\n"
     ]
    },
    {
     "name": "stdout",
     "output_type": "stream",
     "text": [
      "Training until validation scores don't improve for 50 rounds\n",
      "Early stopping, best iteration is:\n",
      "[416]\tvalid_0's average_precision: 0.41984\tvalid_0's binary_logloss: 0.14833\n"
     ]
    },
    {
     "name": "stderr",
     "output_type": "stream",
     "text": [
      "[I 2025-04-14 19:16:01,381] Trial 29 finished with value: 0.41984043885494066 and parameters: {'n_estimators': 15827, 'learning_rate': 0.018010789873309018, 'max_depth': 11, 'num_leaves': 32, 'min_child_samples': 48, 'subsample': 0.7576443270994524, 'colsample_bytree': 0.6810781906991275, 'reg_alpha': 0.0009420970628051623, 'reg_lambda': 1.416773250166341e-07}. Best is trial 17 with value: 0.42165350671819324.\n"
     ]
    },
    {
     "name": "stdout",
     "output_type": "stream",
     "text": [
      "Training until validation scores don't improve for 50 rounds\n"
     ]
    },
    {
     "name": "stderr",
     "output_type": "stream",
     "text": [
      "[I 2025-04-14 19:16:03,920] Trial 30 finished with value: 0.41784325112314624 and parameters: {'n_estimators': 11816, 'learning_rate': 0.02808802875712415, 'max_depth': 19, 'num_leaves': 110, 'min_child_samples': 6, 'subsample': 0.831555803338921, 'colsample_bytree': 0.7183121725368231, 'reg_alpha': 0.000113985047311452, 'reg_lambda': 1.115226268206261e-08}. Best is trial 17 with value: 0.42165350671819324.\n"
     ]
    },
    {
     "name": "stdout",
     "output_type": "stream",
     "text": [
      "Early stopping, best iteration is:\n",
      "[178]\tvalid_0's average_precision: 0.417843\tvalid_0's binary_logloss: 0.148646\n",
      "Training until validation scores don't improve for 50 rounds\n",
      "Early stopping, best iteration is:\n",
      "[538]\tvalid_0's average_precision: 0.421433\tvalid_0's binary_logloss: 0.148163\n"
     ]
    },
    {
     "name": "stderr",
     "output_type": "stream",
     "text": [
      "[I 2025-04-14 19:16:10,178] Trial 31 finished with value: 0.42143270479549333 and parameters: {'n_estimators': 9902, 'learning_rate': 0.011904435951222873, 'max_depth': 9, 'num_leaves': 64, 'min_child_samples': 29, 'subsample': 0.9666885580430009, 'colsample_bytree': 0.6048327235621184, 'reg_alpha': 2.109741053156451, 'reg_lambda': 7.700049334398417e-05}. Best is trial 17 with value: 0.42165350671819324.\n"
     ]
    },
    {
     "name": "stdout",
     "output_type": "stream",
     "text": [
      "Training until validation scores don't improve for 50 rounds\n",
      "Early stopping, best iteration is:\n",
      "[535]\tvalid_0's average_precision: 0.420801\tvalid_0's binary_logloss: 0.148278\n"
     ]
    },
    {
     "name": "stderr",
     "output_type": "stream",
     "text": [
      "[I 2025-04-14 19:16:16,386] Trial 32 finished with value: 0.42080142239682367 and parameters: {'n_estimators': 9405, 'learning_rate': 0.012138961818830405, 'max_depth': 10, 'num_leaves': 80, 'min_child_samples': 13, 'subsample': 0.9022267705303031, 'colsample_bytree': 0.6646784248613576, 'reg_alpha': 1.8539564448099655, 'reg_lambda': 4.382742661975303e-06}. Best is trial 17 with value: 0.42165350671819324.\n"
     ]
    },
    {
     "name": "stdout",
     "output_type": "stream",
     "text": [
      "Training until validation scores don't improve for 50 rounds\n",
      "Early stopping, best iteration is:\n",
      "[474]\tvalid_0's average_precision: 0.421008\tvalid_0's binary_logloss: 0.148152\n"
     ]
    },
    {
     "name": "stderr",
     "output_type": "stream",
     "text": [
      "[I 2025-04-14 19:16:22,105] Trial 33 finished with value: 0.42100795683140324 and parameters: {'n_estimators': 8860, 'learning_rate': 0.015297669338343452, 'max_depth': 14, 'num_leaves': 65, 'min_child_samples': 22, 'subsample': 0.9581324169670429, 'colsample_bytree': 0.6157661424232574, 'reg_alpha': 2.412469666238308, 'reg_lambda': 6.783567888096078e-05}. Best is trial 17 with value: 0.42165350671819324.\n"
     ]
    },
    {
     "name": "stdout",
     "output_type": "stream",
     "text": [
      "Training until validation scores don't improve for 50 rounds\n",
      "Early stopping, best iteration is:\n",
      "[276]\tvalid_0's average_precision: 0.419315\tvalid_0's binary_logloss: 0.148555\n"
     ]
    },
    {
     "name": "stderr",
     "output_type": "stream",
     "text": [
      "[I 2025-04-14 19:16:25,469] Trial 34 finished with value: 0.41931530540132145 and parameters: {'n_estimators': 10451, 'learning_rate': 0.020556706723055186, 'max_depth': 11, 'num_leaves': 82, 'min_child_samples': 32, 'subsample': 0.7692891242720059, 'colsample_bytree': 0.7836874544754276, 'reg_alpha': 0.055036329843963526, 'reg_lambda': 0.0017435789766519823}. Best is trial 17 with value: 0.42165350671819324.\n"
     ]
    },
    {
     "name": "stdout",
     "output_type": "stream",
     "text": [
      "Training until validation scores don't improve for 50 rounds\n",
      "Early stopping, best iteration is:\n",
      "[557]\tvalid_0's average_precision: 0.421891\tvalid_0's binary_logloss: 0.148116\n"
     ]
    },
    {
     "name": "stderr",
     "output_type": "stream",
     "text": [
      "[I 2025-04-14 19:16:31,643] Trial 35 finished with value: 0.4218910975810393 and parameters: {'n_estimators': 3397, 'learning_rate': 0.012222944095301513, 'max_depth': 7, 'num_leaves': 54, 'min_child_samples': 17, 'subsample': 0.9246037854698539, 'colsample_bytree': 0.6082581395167518, 'reg_alpha': 0.4096178923263293, 'reg_lambda': 0.0051929738299068585}. Best is trial 35 with value: 0.4218910975810393.\n"
     ]
    },
    {
     "name": "stdout",
     "output_type": "stream",
     "text": [
      "Training until validation scores don't improve for 50 rounds\n",
      "Early stopping, best iteration is:\n",
      "[344]\tvalid_0's average_precision: 0.419476\tvalid_0's binary_logloss: 0.148418\n"
     ]
    },
    {
     "name": "stderr",
     "output_type": "stream",
     "text": [
      "[I 2025-04-14 19:16:34,801] Trial 36 finished with value: 0.4194763975962507 and parameters: {'n_estimators': 2635, 'learning_rate': 0.017727535793917552, 'max_depth': 5, 'num_leaves': 54, 'min_child_samples': 14, 'subsample': 0.707877087083831, 'colsample_bytree': 0.6711418166429783, 'reg_alpha': 0.4991561022492419, 'reg_lambda': 0.007566300054284288}. Best is trial 35 with value: 0.4218910975810393.\n"
     ]
    },
    {
     "name": "stdout",
     "output_type": "stream",
     "text": [
      "Training until validation scores don't improve for 50 rounds\n",
      "Early stopping, best iteration is:\n",
      "[557]\tvalid_0's average_precision: 0.420149\tvalid_0's binary_logloss: 0.148281\n"
     ]
    },
    {
     "name": "stderr",
     "output_type": "stream",
     "text": [
      "[I 2025-04-14 19:16:40,397] Trial 37 finished with value: 0.4201489963463681 and parameters: {'n_estimators': 4188, 'learning_rate': 0.011294738386429694, 'max_depth': 7, 'num_leaves': 72, 'min_child_samples': 18, 'subsample': 0.7900685604484899, 'colsample_bytree': 0.7232196372421841, 'reg_alpha': 6.98566333299705, 'reg_lambda': 0.0009557216088291338}. Best is trial 35 with value: 0.4218910975810393.\n"
     ]
    },
    {
     "name": "stdout",
     "output_type": "stream",
     "text": [
      "Training until validation scores don't improve for 50 rounds\n",
      "Early stopping, best iteration is:\n",
      "[489]\tvalid_0's average_precision: 0.42107\tvalid_0's binary_logloss: 0.148193\n"
     ]
    },
    {
     "name": "stderr",
     "output_type": "stream",
     "text": [
      "[I 2025-04-14 19:16:45,788] Trial 38 finished with value: 0.421070193186206 and parameters: {'n_estimators': 3185, 'learning_rate': 0.014362783752369017, 'max_depth': 24, 'num_leaves': 47, 'min_child_samples': 10, 'subsample': 0.9145177748657493, 'colsample_bytree': 0.6210043302896697, 'reg_alpha': 0.8737475520712873, 'reg_lambda': 0.03328166285770849}. Best is trial 35 with value: 0.4218910975810393.\n"
     ]
    },
    {
     "name": "stdout",
     "output_type": "stream",
     "text": [
      "Training until validation scores don't improve for 50 rounds\n",
      "Early stopping, best iteration is:\n",
      "[270]\tvalid_0's average_precision: 0.41913\tvalid_0's binary_logloss: 0.148342\n"
     ]
    },
    {
     "name": "stderr",
     "output_type": "stream",
     "text": [
      "[I 2025-04-14 19:16:49,243] Trial 39 finished with value: 0.41913049073016184 and parameters: {'n_estimators': 14058, 'learning_rate': 0.01950493689046781, 'max_depth': 7, 'num_leaves': 97, 'min_child_samples': 17, 'subsample': 0.8812743445346607, 'colsample_bytree': 0.647663113697605, 'reg_alpha': 0.050480192066850796, 'reg_lambda': 0.6488477663189678}. Best is trial 35 with value: 0.4218910975810393.\n"
     ]
    },
    {
     "name": "stdout",
     "output_type": "stream",
     "text": [
      "Training until validation scores don't improve for 50 rounds\n"
     ]
    },
    {
     "name": "stderr",
     "output_type": "stream",
     "text": [
      "[I 2025-04-14 19:16:52,220] Trial 40 finished with value: 0.418842895116778 and parameters: {'n_estimators': 5017, 'learning_rate': 0.037257272542780134, 'max_depth': 10, 'num_leaves': 67, 'min_child_samples': 22, 'subsample': 0.8097661730935981, 'colsample_bytree': 0.5018293475108235, 'reg_alpha': 0.2502991460535776, 'reg_lambda': 0.0029710717963865965}. Best is trial 35 with value: 0.4218910975810393.\n"
     ]
    },
    {
     "name": "stdout",
     "output_type": "stream",
     "text": [
      "Early stopping, best iteration is:\n",
      "[194]\tvalid_0's average_precision: 0.418843\tvalid_0's binary_logloss: 0.148226\n",
      "Training until validation scores don't improve for 50 rounds\n",
      "Early stopping, best iteration is:\n",
      "[649]\tvalid_0's average_precision: 0.421042\tvalid_0's binary_logloss: 0.148128\n"
     ]
    },
    {
     "name": "stderr",
     "output_type": "stream",
     "text": [
      "[I 2025-04-14 19:16:59,566] Trial 41 finished with value: 0.42104196343673383 and parameters: {'n_estimators': 895, 'learning_rate': 0.01220270131873752, 'max_depth': 13, 'num_leaves': 40, 'min_child_samples': 46, 'subsample': 0.9700252584933626, 'colsample_bytree': 0.5705198705833402, 'reg_alpha': 0.0017806929159677022, 'reg_lambda': 0.00037204501613497475}. Best is trial 35 with value: 0.4218910975810393.\n"
     ]
    },
    {
     "name": "stdout",
     "output_type": "stream",
     "text": [
      "Training until validation scores don't improve for 50 rounds\n",
      "Early stopping, best iteration is:\n",
      "[673]\tvalid_0's average_precision: 0.421004\tvalid_0's binary_logloss: 0.148216\n"
     ]
    },
    {
     "name": "stderr",
     "output_type": "stream",
     "text": [
      "[I 2025-04-14 19:17:06,360] Trial 42 finished with value: 0.4210042250079692 and parameters: {'n_estimators': 10623, 'learning_rate': 0.01145376004962363, 'max_depth': 8, 'num_leaves': 33, 'min_child_samples': 39, 'subsample': 0.9291722729758378, 'colsample_bytree': 0.6083064442315392, 'reg_alpha': 0.031155394552850317, 'reg_lambda': 0.00015116472508692536}. Best is trial 35 with value: 0.4218910975810393.\n"
     ]
    },
    {
     "name": "stdout",
     "output_type": "stream",
     "text": [
      "Training until validation scores don't improve for 50 rounds\n",
      "Early stopping, best iteration is:\n",
      "[571]\tvalid_0's average_precision: 0.420745\tvalid_0's binary_logloss: 0.148375\n"
     ]
    },
    {
     "name": "stderr",
     "output_type": "stream",
     "text": [
      "[I 2025-04-14 19:17:11,909] Trial 43 finished with value: 0.42074457333935306 and parameters: {'n_estimators': 6975, 'learning_rate': 0.01264169179703135, 'max_depth': 9, 'num_leaves': 56, 'min_child_samples': 42, 'subsample': 0.935688279220166, 'colsample_bytree': 0.7399363144468427, 'reg_alpha': 0.005289343697343377, 'reg_lambda': 5.652234437866085e-07}. Best is trial 35 with value: 0.4218910975810393.\n"
     ]
    },
    {
     "name": "stdout",
     "output_type": "stream",
     "text": [
      "Training until validation scores don't improve for 50 rounds\n",
      "Early stopping, best iteration is:\n",
      "[634]\tvalid_0's average_precision: 0.420968\tvalid_0's binary_logloss: 0.148113\n"
     ]
    },
    {
     "name": "stderr",
     "output_type": "stream",
     "text": [
      "[I 2025-04-14 19:17:18,705] Trial 44 finished with value: 0.4209678263792273 and parameters: {'n_estimators': 5368, 'learning_rate': 0.014493603116108809, 'max_depth': 12, 'num_leaves': 27, 'min_child_samples': 16, 'subsample': 0.9703086641205441, 'colsample_bytree': 0.5426200197561286, 'reg_alpha': 0.00014309657043256514, 'reg_lambda': 3.702179896084612e-05}. Best is trial 35 with value: 0.4218910975810393.\n"
     ]
    },
    {
     "name": "stdout",
     "output_type": "stream",
     "text": [
      "Training until validation scores don't improve for 50 rounds\n",
      "Early stopping, best iteration is:\n",
      "[586]\tvalid_0's average_precision: 0.419586\tvalid_0's binary_logloss: 0.148292\n"
     ]
    },
    {
     "name": "stderr",
     "output_type": "stream",
     "text": [
      "[I 2025-04-14 19:17:24,202] Trial 45 finished with value: 0.41958565537692366 and parameters: {'n_estimators': 9762, 'learning_rate': 0.011174663495356245, 'max_depth': 6, 'num_leaves': 136, 'min_child_samples': 10, 'subsample': 0.8539231766884996, 'colsample_bytree': 0.6973112736389961, 'reg_alpha': 2.2949666921014136, 'reg_lambda': 0.16507804570357412}. Best is trial 35 with value: 0.4218910975810393.\n"
     ]
    },
    {
     "name": "stdout",
     "output_type": "stream",
     "text": [
      "Training until validation scores don't improve for 50 rounds\n",
      "Early stopping, best iteration is:\n",
      "[402]\tvalid_0's average_precision: 0.421399\tvalid_0's binary_logloss: 0.14809\n"
     ]
    },
    {
     "name": "stderr",
     "output_type": "stream",
     "text": [
      "[I 2025-04-14 19:17:29,557] Trial 46 finished with value: 0.42139946991869104 and parameters: {'n_estimators': 12937, 'learning_rate': 0.01717816003404284, 'max_depth': 25, 'num_leaves': 76, 'min_child_samples': 34, 'subsample': 0.8967234265119189, 'colsample_bytree': 0.5653689945166059, 'reg_alpha': 0.6167086904220226, 'reg_lambda': 0.00255162840484581}. Best is trial 35 with value: 0.4218910975810393.\n"
     ]
    },
    {
     "name": "stdout",
     "output_type": "stream",
     "text": [
      "Training until validation scores don't improve for 50 rounds\n",
      "Early stopping, best iteration is:\n",
      "[365]\tvalid_0's average_precision: 0.420064\tvalid_0's binary_logloss: 0.148216\n"
     ]
    },
    {
     "name": "stderr",
     "output_type": "stream",
     "text": [
      "[I 2025-04-14 19:17:34,167] Trial 47 finished with value: 0.4200644280724174 and parameters: {'n_estimators': 15166, 'learning_rate': 0.016901933853304237, 'max_depth': 30, 'num_leaves': 75, 'min_child_samples': 33, 'subsample': 0.8951699987496062, 'colsample_bytree': 0.6459920277259924, 'reg_alpha': 0.7026087161778487, 'reg_lambda': 0.023216233372157682}. Best is trial 35 with value: 0.4218910975810393.\n"
     ]
    },
    {
     "name": "stdout",
     "output_type": "stream",
     "text": [
      "Training until validation scores don't improve for 50 rounds\n",
      "Early stopping, best iteration is:\n",
      "[274]\tvalid_0's average_precision: 0.420344\tvalid_0's binary_logloss: 0.148156\n"
     ]
    },
    {
     "name": "stderr",
     "output_type": "stream",
     "text": [
      "[I 2025-04-14 19:17:38,027] Trial 48 finished with value: 0.4203441438356489 and parameters: {'n_estimators': 13412, 'learning_rate': 0.027105993023716222, 'max_depth': 26, 'num_leaves': 85, 'min_child_samples': 30, 'subsample': 0.7393774182835701, 'colsample_bytree': 0.5574850324979592, 'reg_alpha': 0.1024366751847534, 'reg_lambda': 0.00238623876777588}. Best is trial 35 with value: 0.4218910975810393.\n"
     ]
    },
    {
     "name": "stdout",
     "output_type": "stream",
     "text": [
      "Training until validation scores don't improve for 50 rounds\n",
      "Early stopping, best iteration is:\n",
      "[344]\tvalid_0's average_precision: 0.421077\tvalid_0's binary_logloss: 0.148178\n"
     ]
    },
    {
     "name": "stderr",
     "output_type": "stream",
     "text": [
      "[I 2025-04-14 19:17:42,024] Trial 49 finished with value: 0.4210770050347714 and parameters: {'n_estimators': 12444, 'learning_rate': 0.021954267731050275, 'max_depth': 25, 'num_leaves': 52, 'min_child_samples': 27, 'subsample': 0.8435450127180569, 'colsample_bytree': 0.6240189815114893, 'reg_alpha': 0.39641952718033335, 'reg_lambda': 0.0009576740385667946}. Best is trial 35 with value: 0.4218910975810393.\n"
     ]
    },
    {
     "name": "stdout",
     "output_type": "stream",
     "text": [
      "Training until validation scores don't improve for 50 rounds\n",
      "Early stopping, best iteration is:\n",
      "[212]\tvalid_0's average_precision: 0.419493\tvalid_0's binary_logloss: 0.148296\n"
     ]
    },
    {
     "name": "stderr",
     "output_type": "stream",
     "text": [
      "[I 2025-04-14 19:17:45,233] Trial 50 finished with value: 0.4194926241864827 and parameters: {'n_estimators': 16992, 'learning_rate': 0.03286399000202852, 'max_depth': 19, 'num_leaves': 92, 'min_child_samples': 24, 'subsample': 0.8699380851182758, 'colsample_bytree': 0.5278042287740116, 'reg_alpha': 0.015600104483518047, 'reg_lambda': 0.013307368093556196}. Best is trial 35 with value: 0.4218910975810393.\n"
     ]
    },
    {
     "name": "stdout",
     "output_type": "stream",
     "text": [
      "Training until validation scores don't improve for 50 rounds\n",
      "Early stopping, best iteration is:\n",
      "[527]\tvalid_0's average_precision: 0.421179\tvalid_0's binary_logloss: 0.148149\n"
     ]
    },
    {
     "name": "stderr",
     "output_type": "stream",
     "text": [
      "[I 2025-04-14 19:17:51,266] Trial 51 finished with value: 0.4211792825169368 and parameters: {'n_estimators': 11374, 'learning_rate': 0.013314220175785737, 'max_depth': 18, 'num_leaves': 45, 'min_child_samples': 19, 'subsample': 0.9710580244163096, 'colsample_bytree': 0.5962749843519527, 'reg_alpha': 0.954081151258941, 'reg_lambda': 3.1887930956895044e-05}. Best is trial 35 with value: 0.4218910975810393.\n"
     ]
    },
    {
     "name": "stdout",
     "output_type": "stream",
     "text": [
      "Training until validation scores don't improve for 50 rounds\n",
      "Early stopping, best iteration is:\n",
      "[337]\tvalid_0's average_precision: 0.420399\tvalid_0's binary_logloss: 0.148277\n"
     ]
    },
    {
     "name": "stderr",
     "output_type": "stream",
     "text": [
      "[I 2025-04-14 19:17:55,817] Trial 52 finished with value: 0.4203986132166701 and parameters: {'n_estimators': 8525, 'learning_rate': 0.015181911123170898, 'max_depth': 22, 'num_leaves': 63, 'min_child_samples': 35, 'subsample': 0.9144003451710611, 'colsample_bytree': 0.5612057821797812, 'reg_alpha': 3.3218907783433678, 'reg_lambda': 0.0007051028556423705}. Best is trial 35 with value: 0.4218910975810393.\n"
     ]
    },
    {
     "name": "stdout",
     "output_type": "stream",
     "text": [
      "Training until validation scores don't improve for 50 rounds\n",
      "Early stopping, best iteration is:\n",
      "[361]\tvalid_0's average_precision: 0.420494\tvalid_0's binary_logloss: 0.148084\n"
     ]
    },
    {
     "name": "stderr",
     "output_type": "stream",
     "text": [
      "[I 2025-04-14 19:18:00,985] Trial 53 finished with value: 0.4204941149295869 and parameters: {'n_estimators': 10154, 'learning_rate': 0.0185071500429447, 'max_depth': 29, 'num_leaves': 77, 'min_child_samples': 40, 'subsample': 0.9823087270934995, 'colsample_bytree': 0.5189397175724474, 'reg_alpha': 0.003350861127078274, 'reg_lambda': 9.915197473366717}. Best is trial 35 with value: 0.4218910975810393.\n"
     ]
    },
    {
     "name": "stdout",
     "output_type": "stream",
     "text": [
      "Training until validation scores don't improve for 50 rounds\n",
      "Early stopping, best iteration is:\n",
      "[408]\tvalid_0's average_precision: 0.42208\tvalid_0's binary_logloss: 0.148142\n"
     ]
    },
    {
     "name": "stderr",
     "output_type": "stream",
     "text": [
      "[I 2025-04-14 19:18:06,131] Trial 54 finished with value: 0.42208022428061287 and parameters: {'n_estimators': 12089, 'learning_rate': 0.0163757273134269, 'max_depth': 15, 'num_leaves': 67, 'min_child_samples': 31, 'subsample': 0.9386529732560875, 'colsample_bytree': 0.5992689431037025, 'reg_alpha': 0.010146950962660788, 'reg_lambda': 0.004455044347693195}. Best is trial 54 with value: 0.42208022428061287.\n"
     ]
    },
    {
     "name": "stdout",
     "output_type": "stream",
     "text": [
      "Training until validation scores don't improve for 50 rounds\n",
      "Early stopping, best iteration is:\n",
      "[443]\tvalid_0's average_precision: 0.421014\tvalid_0's binary_logloss: 0.148241\n"
     ]
    },
    {
     "name": "stderr",
     "output_type": "stream",
     "text": [
      "[I 2025-04-14 19:18:10,997] Trial 55 finished with value: 0.4210138094850664 and parameters: {'n_estimators': 13597, 'learning_rate': 0.01633037685382691, 'max_depth': 12, 'num_leaves': 67, 'min_child_samples': 31, 'subsample': 0.9334838507948081, 'colsample_bytree': 0.6601746863455753, 'reg_alpha': 0.012787279866107804, 'reg_lambda': 0.005380115003393866}. Best is trial 54 with value: 0.42208022428061287.\n"
     ]
    },
    {
     "name": "stdout",
     "output_type": "stream",
     "text": [
      "Training until validation scores don't improve for 50 rounds\n"
     ]
    },
    {
     "name": "stderr",
     "output_type": "stream",
     "text": [
      "[I 2025-04-14 19:18:12,740] Trial 56 finished with value: 0.41745441814096895 and parameters: {'n_estimators': 12326, 'learning_rate': 0.049953213839548614, 'max_depth': 16, 'num_leaves': 61, 'min_child_samples': 28, 'subsample': 0.5403797275433813, 'colsample_bytree': 0.9230274604416973, 'reg_alpha': 0.0855718240042609, 'reg_lambda': 0.0034769062937505435}. Best is trial 54 with value: 0.42208022428061287.\n"
     ]
    },
    {
     "name": "stdout",
     "output_type": "stream",
     "text": [
      "Early stopping, best iteration is:\n",
      "[122]\tvalid_0's average_precision: 0.417454\tvalid_0's binary_logloss: 0.14887\n",
      "Training until validation scores don't improve for 50 rounds\n",
      "Early stopping, best iteration is:\n",
      "[345]\tvalid_0's average_precision: 0.419513\tvalid_0's binary_logloss: 0.148263\n"
     ]
    },
    {
     "name": "stderr",
     "output_type": "stream",
     "text": [
      "[I 2025-04-14 19:18:16,909] Trial 57 finished with value: 0.4195129854992808 and parameters: {'n_estimators': 14668, 'learning_rate': 0.02135822675326967, 'max_depth': 14, 'num_leaves': 72, 'min_child_samples': 25, 'subsample': 0.9050892394505174, 'colsample_bytree': 0.6099420825658861, 'reg_alpha': 0.3064223046384641, 'reg_lambda': 0.0001757214764975543}. Best is trial 54 with value: 0.42208022428061287.\n"
     ]
    },
    {
     "name": "stdout",
     "output_type": "stream",
     "text": [
      "Training until validation scores don't improve for 50 rounds\n",
      "Early stopping, best iteration is:\n",
      "[380]\tvalid_0's average_precision: 0.420202\tvalid_0's binary_logloss: 0.148313\n"
     ]
    },
    {
     "name": "stderr",
     "output_type": "stream",
     "text": [
      "[I 2025-04-14 19:18:20,453] Trial 58 finished with value: 0.4202015859726995 and parameters: {'n_estimators': 13173, 'learning_rate': 0.019087283189890163, 'max_depth': 5, 'num_leaves': 82, 'min_child_samples': 20, 'subsample': 0.6731844444466397, 'colsample_bytree': 0.6337733242913732, 'reg_alpha': 0.030811198772552704, 'reg_lambda': 0.12475959561337606}. Best is trial 54 with value: 0.42208022428061287.\n"
     ]
    },
    {
     "name": "stdout",
     "output_type": "stream",
     "text": [
      "Training until validation scores don't improve for 50 rounds\n",
      "Early stopping, best iteration is:\n",
      "[510]\tvalid_0's average_precision: 0.42077\tvalid_0's binary_logloss: 0.148171\n"
     ]
    },
    {
     "name": "stderr",
     "output_type": "stream",
     "text": [
      "[I 2025-04-14 19:18:26,713] Trial 59 finished with value: 0.4207699994967118 and parameters: {'n_estimators': 2072, 'learning_rate': 0.014141227930282625, 'max_depth': 18, 'num_leaves': 57, 'min_child_samples': 15, 'subsample': 0.8838122776936534, 'colsample_bytree': 0.5773218809293184, 'reg_alpha': 4.574426331113558, 'reg_lambda': 0.00125848305214236}. Best is trial 54 with value: 0.42208022428061287.\n"
     ]
    },
    {
     "name": "stdout",
     "output_type": "stream",
     "text": [
      "Training until validation scores don't improve for 50 rounds\n",
      "Early stopping, best iteration is:\n",
      "[697]\tvalid_0's average_precision: 0.421443\tvalid_0's binary_logloss: 0.148031\n"
     ]
    },
    {
     "name": "stderr",
     "output_type": "stream",
     "text": [
      "[I 2025-04-14 19:18:35,171] Trial 60 finished with value: 0.42144270175000426 and parameters: {'n_estimators': 11193, 'learning_rate': 0.0106989072714768, 'max_depth': 10, 'num_leaves': 49, 'min_child_samples': 23, 'subsample': 0.9427300468777883, 'colsample_bytree': 0.5481626440494451, 'reg_alpha': 1.240881649935887, 'reg_lambda': 1.1577185833678841e-05}. Best is trial 54 with value: 0.42208022428061287.\n"
     ]
    },
    {
     "name": "stdout",
     "output_type": "stream",
     "text": [
      "Training until validation scores don't improve for 50 rounds\n",
      "Early stopping, best iteration is:\n",
      "[704]\tvalid_0's average_precision: 0.421412\tvalid_0's binary_logloss: 0.148064\n"
     ]
    },
    {
     "name": "stderr",
     "output_type": "stream",
     "text": [
      "[I 2025-04-14 19:18:43,732] Trial 61 finished with value: 0.4214123470850627 and parameters: {'n_estimators': 11768, 'learning_rate': 0.010522142467759794, 'max_depth': 10, 'num_leaves': 50, 'min_child_samples': 22, 'subsample': 0.9460125010696492, 'colsample_bytree': 0.546927075144663, 'reg_alpha': 1.350736475185829, 'reg_lambda': 1.525229800020948e-05}. Best is trial 54 with value: 0.42208022428061287.\n"
     ]
    },
    {
     "name": "stdout",
     "output_type": "stream",
     "text": [
      "Training until validation scores don't improve for 50 rounds\n",
      "Early stopping, best iteration is:\n",
      "[633]\tvalid_0's average_precision: 0.420976\tvalid_0's binary_logloss: 0.148107\n"
     ]
    },
    {
     "name": "stderr",
     "output_type": "stream",
     "text": [
      "[I 2025-04-14 19:18:51,351] Trial 62 finished with value: 0.4209759212568956 and parameters: {'n_estimators': 9153, 'learning_rate': 0.010622417503680398, 'max_depth': 10, 'num_leaves': 50, 'min_child_samples': 27, 'subsample': 0.9484955361261552, 'colsample_bytree': 0.5498958511703895, 'reg_alpha': 1.1078941323179015, 'reg_lambda': 6.353688993577578e-06}. Best is trial 54 with value: 0.42208022428061287.\n"
     ]
    },
    {
     "name": "stdout",
     "output_type": "stream",
     "text": [
      "Training until validation scores don't improve for 50 rounds\n",
      "Early stopping, best iteration is:\n",
      "[582]\tvalid_0's average_precision: 0.420278\tvalid_0's binary_logloss: 0.148158\n"
     ]
    },
    {
     "name": "stderr",
     "output_type": "stream",
     "text": [
      "[I 2025-04-14 19:18:58,351] Trial 63 finished with value: 0.42027835902532595 and parameters: {'n_estimators': 19991, 'learning_rate': 0.010848665947233375, 'max_depth': 8, 'num_leaves': 44, 'min_child_samples': 24, 'subsample': 0.9990206294388477, 'colsample_bytree': 0.5226505615435717, 'reg_alpha': 0.20682286128705113, 'reg_lambda': 1.2194588523870961e-05}. Best is trial 54 with value: 0.42208022428061287.\n"
     ]
    },
    {
     "name": "stdout",
     "output_type": "stream",
     "text": [
      "Training until validation scores don't improve for 50 rounds\n",
      "Early stopping, best iteration is:\n",
      "[516]\tvalid_0's average_precision: 0.42134\tvalid_0's binary_logloss: 0.14818\n"
     ]
    },
    {
     "name": "stderr",
     "output_type": "stream",
     "text": [
      "[I 2025-04-14 19:19:04,530] Trial 64 finished with value: 0.4213396854286676 and parameters: {'n_estimators': 11606, 'learning_rate': 0.012891903031608754, 'max_depth': 11, 'num_leaves': 49, 'min_child_samples': 23, 'subsample': 0.9370306719821361, 'colsample_bytree': 0.5962770309781964, 'reg_alpha': 9.257357585171176, 'reg_lambda': 4.865855859762601e-05}. Best is trial 54 with value: 0.42208022428061287.\n"
     ]
    },
    {
     "name": "stdout",
     "output_type": "stream",
     "text": [
      "Training until validation scores don't improve for 50 rounds\n",
      "Early stopping, best iteration is:\n",
      "[695]\tvalid_0's average_precision: 0.420775\tvalid_0's binary_logloss: 0.148089\n"
     ]
    },
    {
     "name": "stderr",
     "output_type": "stream",
     "text": [
      "[I 2025-04-14 19:19:12,446] Trial 65 finished with value: 0.42077525252441866 and parameters: {'n_estimators': 11874, 'learning_rate': 0.011750351292945492, 'max_depth': 6, 'num_leaves': 37, 'min_child_samples': 33, 'subsample': 0.9763512057463167, 'colsample_bytree': 0.5413017564558257, 'reg_alpha': 1.3441662988866785, 'reg_lambda': 1.8540805440492092e-05}. Best is trial 54 with value: 0.42208022428061287.\n"
     ]
    },
    {
     "name": "stdout",
     "output_type": "stream",
     "text": [
      "Training until validation scores don't improve for 50 rounds\n",
      "Early stopping, best iteration is:\n",
      "[760]\tvalid_0's average_precision: 0.420803\tvalid_0's binary_logloss: 0.148054\n"
     ]
    },
    {
     "name": "stderr",
     "output_type": "stream",
     "text": [
      "[I 2025-04-14 19:19:21,557] Trial 66 finished with value: 0.4208029560983727 and parameters: {'n_estimators': 12856, 'learning_rate': 0.010019552597026634, 'max_depth': 13, 'num_leaves': 53, 'min_child_samples': 30, 'subsample': 0.9158326418331587, 'colsample_bytree': 0.5755280515555657, 'reg_alpha': 5.113217266735923, 'reg_lambda': 0.015507048891764427}. Best is trial 54 with value: 0.42208022428061287.\n"
     ]
    },
    {
     "name": "stdout",
     "output_type": "stream",
     "text": [
      "Training until validation scores don't improve for 50 rounds\n",
      "Early stopping, best iteration is:\n",
      "[546]\tvalid_0's average_precision: 0.421197\tvalid_0's binary_logloss: 0.148078\n"
     ]
    },
    {
     "name": "stderr",
     "output_type": "stream",
     "text": [
      "[I 2025-04-14 19:19:28,301] Trial 67 finished with value: 0.4211974893694896 and parameters: {'n_estimators': 14034, 'learning_rate': 0.014695119633719389, 'max_depth': 20, 'num_leaves': 60, 'min_child_samples': 26, 'subsample': 0.9410787177129547, 'colsample_bytree': 0.5149199773833582, 'reg_alpha': 3.595783829211292e-08, 'reg_lambda': 0.00043354661562298985}. Best is trial 54 with value: 0.42208022428061287.\n"
     ]
    },
    {
     "name": "stdout",
     "output_type": "stream",
     "text": [
      "Training until validation scores don't improve for 50 rounds\n",
      "Early stopping, best iteration is:\n",
      "[489]\tvalid_0's average_precision: 0.420678\tvalid_0's binary_logloss: 0.148173\n"
     ]
    },
    {
     "name": "stderr",
     "output_type": "stream",
     "text": [
      "[I 2025-04-14 19:19:34,645] Trial 68 finished with value: 0.4206776263635731 and parameters: {'n_estimators': 9783, 'learning_rate': 0.013224542369542035, 'max_depth': 28, 'num_leaves': 71, 'min_child_samples': 36, 'subsample': 0.9849771480733733, 'colsample_bytree': 0.5675546643919887, 'reg_alpha': 0.5003966611448281, 'reg_lambda': 0.004617237446474642}. Best is trial 54 with value: 0.42208022428061287.\n"
     ]
    },
    {
     "name": "stdout",
     "output_type": "stream",
     "text": [
      "Training until validation scores don't improve for 50 rounds\n",
      "Early stopping, best iteration is:\n",
      "[512]\tvalid_0's average_precision: 0.41967\tvalid_0's binary_logloss: 0.14846\n"
     ]
    },
    {
     "name": "stderr",
     "output_type": "stream",
     "text": [
      "[I 2025-04-14 19:19:38,940] Trial 69 finished with value: 0.41966970234353296 and parameters: {'n_estimators': 11156, 'learning_rate': 0.016019445811798205, 'max_depth': 16, 'num_leaves': 26, 'min_child_samples': 28, 'subsample': 0.9583784411819019, 'colsample_bytree': 0.8753785189755516, 'reg_alpha': 4.6117847702609176e-06, 'reg_lambda': 0.00019476734012819009}. Best is trial 54 with value: 0.42208022428061287.\n"
     ]
    },
    {
     "name": "stdout",
     "output_type": "stream",
     "text": [
      "Training until validation scores don't improve for 50 rounds\n",
      "Early stopping, best iteration is:\n",
      "[523]\tvalid_0's average_precision: 0.419479\tvalid_0's binary_logloss: 0.148244\n"
     ]
    },
    {
     "name": "stderr",
     "output_type": "stream",
     "text": [
      "[I 2025-04-14 19:19:45,707] Trial 70 finished with value: 0.41947930063123207 and parameters: {'n_estimators': 6935, 'learning_rate': 0.010947263888542207, 'max_depth': 10, 'num_leaves': 64, 'min_child_samples': 18, 'subsample': 0.8938134035831455, 'colsample_bytree': 0.5478514585718615, 'reg_alpha': 0.0006959621584402165, 'reg_lambda': 2.56010511872284e-06}. Best is trial 54 with value: 0.42208022428061287.\n"
     ]
    },
    {
     "name": "stdout",
     "output_type": "stream",
     "text": [
      "Training until validation scores don't improve for 50 rounds\n",
      "Early stopping, best iteration is:\n",
      "[325]\tvalid_0's average_precision: 0.421032\tvalid_0's binary_logloss: 0.148184\n"
     ]
    },
    {
     "name": "stderr",
     "output_type": "stream",
     "text": [
      "[I 2025-04-14 19:19:50,103] Trial 71 finished with value: 0.42103199659576995 and parameters: {'n_estimators': 10895, 'learning_rate': 0.01743651083765132, 'max_depth': 9, 'num_leaves': 68, 'min_child_samples': 20, 'subsample': 0.8633272637626663, 'colsample_bytree': 0.5908301746782103, 'reg_alpha': 0.1153971155386261, 'reg_lambda': 9.662792909116192e-05}. Best is trial 54 with value: 0.42208022428061287.\n"
     ]
    },
    {
     "name": "stdout",
     "output_type": "stream",
     "text": [
      "Training until validation scores don't improve for 50 rounds\n",
      "Early stopping, best iteration is:\n",
      "[507]\tvalid_0's average_precision: 0.420873\tvalid_0's binary_logloss: 0.148186\n"
     ]
    },
    {
     "name": "stderr",
     "output_type": "stream",
     "text": [
      "[I 2025-04-14 19:19:56,049] Trial 72 finished with value: 0.4208730194697975 and parameters: {'n_estimators': 11841, 'learning_rate': 0.011989973137133769, 'max_depth': 8, 'num_leaves': 75, 'min_child_samples': 23, 'subsample': 0.9296152542977728, 'colsample_bytree': 0.6073399982066334, 'reg_alpha': 0.00878719275327376, 'reg_lambda': 1.0552765972555757e-05}. Best is trial 54 with value: 0.42208022428061287.\n"
     ]
    },
    {
     "name": "stdout",
     "output_type": "stream",
     "text": [
      "Training until validation scores don't improve for 50 rounds\n",
      "Did not meet early stopping. Best iteration is:\n",
      "[274]\tvalid_0's average_precision: 0.419148\tvalid_0's binary_logloss: 0.148291\n"
     ]
    },
    {
     "name": "stderr",
     "output_type": "stream",
     "text": [
      "[I 2025-04-14 19:19:59,053] Trial 73 finished with value: 0.41914805440096703 and parameters: {'n_estimators': 311, 'learning_rate': 0.025380899715087384, 'max_depth': 6, 'num_leaves': 64, 'min_child_samples': 21, 'subsample': 0.9211622301268314, 'colsample_bytree': 0.6361730182514689, 'reg_alpha': 0.0253944009129979, 'reg_lambda': 6.607628183493481e-05}. Best is trial 54 with value: 0.42208022428061287.\n"
     ]
    },
    {
     "name": "stdout",
     "output_type": "stream",
     "text": [
      "Training until validation scores don't improve for 50 rounds\n",
      "Early stopping, best iteration is:\n",
      "[532]\tvalid_0's average_precision: 0.420685\tvalid_0's binary_logloss: 0.148121\n"
     ]
    },
    {
     "name": "stderr",
     "output_type": "stream",
     "text": [
      "[I 2025-04-14 19:20:05,834] Trial 74 finished with value: 0.4206845562402432 and parameters: {'n_estimators': 10331, 'learning_rate': 0.013711121626283322, 'max_depth': 9, 'num_leaves': 57, 'min_child_samples': 12, 'subsample': 0.8179199916780178, 'colsample_bytree': 0.5357426974777106, 'reg_alpha': 1.453227870133126, 'reg_lambda': 2.264897508604503e-05}. Best is trial 54 with value: 0.42208022428061287.\n"
     ]
    },
    {
     "name": "stdout",
     "output_type": "stream",
     "text": [
      "Training until validation scores don't improve for 50 rounds\n",
      "Early stopping, best iteration is:\n",
      "[556]\tvalid_0's average_precision: 0.419759\tvalid_0's binary_logloss: 0.148442\n"
     ]
    },
    {
     "name": "stderr",
     "output_type": "stream",
     "text": [
      "[I 2025-04-14 19:20:11,398] Trial 75 finished with value: 0.4197587882061644 and parameters: {'n_estimators': 12276, 'learning_rate': 0.012714368033657074, 'max_depth': 14, 'num_leaves': 54, 'min_child_samples': 26, 'subsample': 0.9044581173754948, 'colsample_bytree': 0.7621675385211663, 'reg_alpha': 0.5596574179277694, 'reg_lambda': 0.0005749838195183832}. Best is trial 54 with value: 0.42208022428061287.\n"
     ]
    },
    {
     "name": "stdout",
     "output_type": "stream",
     "text": [
      "Training until validation scores don't improve for 50 rounds\n",
      "Early stopping, best iteration is:\n",
      "[447]\tvalid_0's average_precision: 0.420551\tvalid_0's binary_logloss: 0.148264\n"
     ]
    },
    {
     "name": "stderr",
     "output_type": "stream",
     "text": [
      "[I 2025-04-14 19:20:17,280] Trial 76 finished with value: 0.42055064339092785 and parameters: {'n_estimators': 9363, 'learning_rate': 0.011467622596087808, 'max_depth': 11, 'num_leaves': 79, 'min_child_samples': 18, 'subsample': 0.8855798107438373, 'colsample_bytree': 0.5857132464067843, 'reg_alpha': 0.20438020529598902, 'reg_lambda': 0.001561865844869832}. Best is trial 54 with value: 0.42208022428061287.\n"
     ]
    },
    {
     "name": "stdout",
     "output_type": "stream",
     "text": [
      "Training until validation scores don't improve for 50 rounds\n",
      "Early stopping, best iteration is:\n",
      "[460]\tvalid_0's average_precision: 0.421387\tvalid_0's binary_logloss: 0.14803\n"
     ]
    },
    {
     "name": "stderr",
     "output_type": "stream",
     "text": [
      "[I 2025-04-14 19:20:22,762] Trial 77 finished with value: 0.4213866967744586 and parameters: {'n_estimators': 6266, 'learning_rate': 0.01653348384414941, 'max_depth': 7, 'num_leaves': 47, 'min_child_samples': 31, 'subsample': 0.958525188524749, 'colsample_bytree': 0.5677269268575282, 'reg_alpha': 3.274027271428274, 'reg_lambda': 0.05187544752386603}. Best is trial 54 with value: 0.42208022428061287.\n"
     ]
    },
    {
     "name": "stdout",
     "output_type": "stream",
     "text": [
      "Training until validation scores don't improve for 50 rounds\n"
     ]
    },
    {
     "name": "stderr",
     "output_type": "stream",
     "text": [
      "[I 2025-04-14 19:20:24,227] Trial 78 finished with value: 0.4167821576299935 and parameters: {'n_estimators': 7654, 'learning_rate': 0.0732574291371191, 'max_depth': 12, 'num_leaves': 70, 'min_child_samples': 16, 'subsample': 0.9230169651938996, 'colsample_bytree': 0.6185013600705423, 'reg_alpha': 0.3397373036285407, 'reg_lambda': 0.0002800866653319721}. Best is trial 54 with value: 0.42208022428061287.\n"
     ]
    },
    {
     "name": "stdout",
     "output_type": "stream",
     "text": [
      "Early stopping, best iteration is:\n",
      "[76]\tvalid_0's average_precision: 0.416782\tvalid_0's binary_logloss: 0.148523\n",
      "Training until validation scores don't improve for 50 rounds\n",
      "Early stopping, best iteration is:\n",
      "[462]\tvalid_0's average_precision: 0.420856\tvalid_0's binary_logloss: 0.148239\n"
     ]
    },
    {
     "name": "stderr",
     "output_type": "stream",
     "text": [
      "[I 2025-04-14 19:20:28,815] Trial 79 finished with value: 0.4208559850483881 and parameters: {'n_estimators': 10933, 'learning_rate': 0.015299238631025489, 'max_depth': 9, 'num_leaves': 43, 'min_child_samples': 43, 'subsample': 0.8751699595298662, 'colsample_bytree': 0.679042482315569, 'reg_alpha': 1.8375080019927397, 'reg_lambda': 1.1154940385031642e-06}. Best is trial 54 with value: 0.42208022428061287.\n"
     ]
    },
    {
     "name": "stdout",
     "output_type": "stream",
     "text": [
      "Training until validation scores don't improve for 50 rounds\n",
      "Early stopping, best iteration is:\n",
      "[606]\tvalid_0's average_precision: 0.420996\tvalid_0's binary_logloss: 0.148225\n"
     ]
    },
    {
     "name": "stderr",
     "output_type": "stream",
     "text": [
      "[I 2025-04-14 19:20:35,394] Trial 80 finished with value: 0.420995785972629 and parameters: {'n_estimators': 12820, 'learning_rate': 0.010405464873964708, 'max_depth': 10, 'num_leaves': 60, 'min_child_samples': 47, 'subsample': 0.9653159990140275, 'colsample_bytree': 0.6516202203930299, 'reg_alpha': 0.008389235840618733, 'reg_lambda': 0.00010813685594730465}. Best is trial 54 with value: 0.42208022428061287.\n"
     ]
    },
    {
     "name": "stdout",
     "output_type": "stream",
     "text": [
      "Training until validation scores don't improve for 50 rounds\n",
      "Early stopping, best iteration is:\n",
      "[448]\tvalid_0's average_precision: 0.420374\tvalid_0's binary_logloss: 0.148041\n"
     ]
    },
    {
     "name": "stderr",
     "output_type": "stream",
     "text": [
      "[I 2025-04-14 19:20:40,822] Trial 81 finished with value: 0.42037372782113414 and parameters: {'n_estimators': 4848, 'learning_rate': 0.016746957661617, 'max_depth': 7, 'num_leaves': 48, 'min_child_samples': 34, 'subsample': 0.9441666266024205, 'colsample_bytree': 0.5537838618068496, 'reg_alpha': 3.2280472407280487, 'reg_lambda': 0.04194181160319147}. Best is trial 54 with value: 0.42208022428061287.\n"
     ]
    },
    {
     "name": "stdout",
     "output_type": "stream",
     "text": [
      "Training until validation scores don't improve for 50 rounds\n",
      "Early stopping, best iteration is:\n",
      "[489]\tvalid_0's average_precision: 0.421947\tvalid_0's binary_logloss: 0.148023\n"
     ]
    },
    {
     "name": "stderr",
     "output_type": "stream",
     "text": [
      "[I 2025-04-14 19:20:46,776] Trial 82 finished with value: 0.42194705707699576 and parameters: {'n_estimators': 6428, 'learning_rate': 0.018004535470365356, 'max_depth': 8, 'num_leaves': 55, 'min_child_samples': 31, 'subsample': 0.9846682821766485, 'colsample_bytree': 0.5713354172196391, 'reg_alpha': 0.0706050038124169, 'reg_lambda': 0.5262957467856677}. Best is trial 54 with value: 0.42208022428061287.\n"
     ]
    },
    {
     "name": "stdout",
     "output_type": "stream",
     "text": [
      "Training until validation scores don't improve for 50 rounds\n",
      "Early stopping, best iteration is:\n",
      "[329]\tvalid_0's average_precision: 0.42081\tvalid_0's binary_logloss: 0.148197\n"
     ]
    },
    {
     "name": "stderr",
     "output_type": "stream",
     "text": [
      "[I 2025-04-14 19:20:50,886] Trial 83 finished with value: 0.42081048039009644 and parameters: {'n_estimators': 3369, 'learning_rate': 0.022300326378818045, 'max_depth': 8, 'num_leaves': 55, 'min_child_samples': 29, 'subsample': 0.9911707417099248, 'colsample_bytree': 0.5951265132355963, 'reg_alpha': 0.07763007466792221, 'reg_lambda': 0.4968870304463912}. Best is trial 54 with value: 0.42208022428061287.\n"
     ]
    },
    {
     "name": "stdout",
     "output_type": "stream",
     "text": [
      "Training until validation scores don't improve for 50 rounds\n",
      "Early stopping, best iteration is:\n",
      "[353]\tvalid_0's average_precision: 0.421135\tvalid_0's binary_logloss: 0.148094\n"
     ]
    },
    {
     "name": "stderr",
     "output_type": "stream",
     "text": [
      "[I 2025-04-14 19:20:55,464] Trial 84 finished with value: 0.42113483657765155 and parameters: {'n_estimators': 4359, 'learning_rate': 0.01832523383641791, 'max_depth': 8, 'num_leaves': 66, 'min_child_samples': 21, 'subsample': 0.9463392595271413, 'colsample_bytree': 0.5749990376693671, 'reg_alpha': 0.052607023239298, 'reg_lambda': 1.1232125283981547}. Best is trial 54 with value: 0.42208022428061287.\n"
     ]
    },
    {
     "name": "stdout",
     "output_type": "stream",
     "text": [
      "Training until validation scores don't improve for 50 rounds\n",
      "Early stopping, best iteration is:\n",
      "[335]\tvalid_0's average_precision: 0.419927\tvalid_0's binary_logloss: 0.148164\n"
     ]
    },
    {
     "name": "stderr",
     "output_type": "stream",
     "text": [
      "[I 2025-04-14 19:20:59,967] Trial 85 finished with value: 0.419926608819173 and parameters: {'n_estimators': 8955, 'learning_rate': 0.020433622710810097, 'max_depth': 11, 'num_leaves': 74, 'min_child_samples': 24, 'subsample': 0.9790856197946244, 'colsample_bytree': 0.5056528795341179, 'reg_alpha': 0.19193258849540712, 'reg_lambda': 5.0578693094931255e-06}. Best is trial 54 with value: 0.42208022428061287.\n"
     ]
    },
    {
     "name": "stdout",
     "output_type": "stream",
     "text": [
      "Training until validation scores don't improve for 50 rounds\n",
      "Early stopping, best iteration is:\n",
      "[630]\tvalid_0's average_precision: 0.421185\tvalid_0's binary_logloss: 0.148179\n"
     ]
    },
    {
     "name": "stderr",
     "output_type": "stream",
     "text": [
      "[I 2025-04-14 19:21:06,570] Trial 86 finished with value: 0.42118535511678357 and parameters: {'n_estimators': 6308, 'learning_rate': 0.012450019648522678, 'max_depth': 17, 'num_leaves': 51, 'min_child_samples': 32, 'subsample': 0.9065512169792901, 'colsample_bytree': 0.6254128661893146, 'reg_alpha': 0.023001015324974103, 'reg_lambda': 5.835698344959978e-05}. Best is trial 54 with value: 0.42208022428061287.\n"
     ]
    },
    {
     "name": "stdout",
     "output_type": "stream",
     "text": [
      "Training until validation scores don't improve for 50 rounds\n",
      "Early stopping, best iteration is:\n",
      "[420]\tvalid_0's average_precision: 0.420603\tvalid_0's binary_logloss: 0.148143\n"
     ]
    },
    {
     "name": "stderr",
     "output_type": "stream",
     "text": [
      "[I 2025-04-14 19:21:11,687] Trial 87 finished with value: 0.42060316590232355 and parameters: {'n_estimators': 7982, 'learning_rate': 0.0140976887395949, 'max_depth': 6, 'num_leaves': 61, 'min_child_samples': 50, 'subsample': 0.9658350093779867, 'colsample_bytree': 0.5354291557788092, 'reg_alpha': 0.00026711744969542005, 'reg_lambda': 0.009471628523371502}. Best is trial 54 with value: 0.42208022428061287.\n"
     ]
    },
    {
     "name": "stdout",
     "output_type": "stream",
     "text": [
      "Training until validation scores don't improve for 50 rounds\n",
      "Early stopping, best iteration is:\n",
      "[480]\tvalid_0's average_precision: 0.420822\tvalid_0's binary_logloss: 0.148212\n"
     ]
    },
    {
     "name": "stderr",
     "output_type": "stream",
     "text": [
      "[I 2025-04-14 19:21:16,888] Trial 88 finished with value: 0.42082210717797625 and parameters: {'n_estimators': 9786, 'learning_rate': 0.0149802535290703, 'max_depth': 10, 'num_leaves': 41, 'min_child_samples': 30, 'subsample': 0.9489139567079763, 'colsample_bytree': 0.6036688830004134, 'reg_alpha': 0.6432290045241714, 'reg_lambda': 2.42469078228117e-05}. Best is trial 54 with value: 0.42208022428061287.\n"
     ]
    },
    {
     "name": "stdout",
     "output_type": "stream",
     "text": [
      "Training until validation scores don't improve for 50 rounds\n",
      "Early stopping, best iteration is:\n",
      "[435]\tvalid_0's average_precision: 0.420736\tvalid_0's binary_logloss: 0.148226\n"
     ]
    },
    {
     "name": "stderr",
     "output_type": "stream",
     "text": [
      "[I 2025-04-14 19:21:22,883] Trial 89 finished with value: 0.42073602345293826 and parameters: {'n_estimators': 10710, 'learning_rate': 0.013470307526258454, 'max_depth': 23, 'num_leaves': 86, 'min_child_samples': 37, 'subsample': 0.7746973428687461, 'colsample_bytree': 0.5634674906066824, 'reg_alpha': 0.9764706785179711, 'reg_lambda': 2.434485112082319}. Best is trial 54 with value: 0.42208022428061287.\n"
     ]
    },
    {
     "name": "stdout",
     "output_type": "stream",
     "text": [
      "Training until validation scores don't improve for 50 rounds\n",
      "Early stopping, best iteration is:\n",
      "[299]\tvalid_0's average_precision: 0.420844\tvalid_0's binary_logloss: 0.148179\n"
     ]
    },
    {
     "name": "stderr",
     "output_type": "stream",
     "text": [
      "[I 2025-04-14 19:21:26,724] Trial 90 finished with value: 0.4208443668196434 and parameters: {'n_estimators': 5866, 'learning_rate': 0.019386802775090455, 'max_depth': 13, 'num_leaves': 58, 'min_child_samples': 34, 'subsample': 0.8441392478746796, 'colsample_bytree': 0.583852429224163, 'reg_alpha': 0.002207688185855937, 'reg_lambda': 0.21442414394233095}. Best is trial 54 with value: 0.42208022428061287.\n"
     ]
    },
    {
     "name": "stdout",
     "output_type": "stream",
     "text": [
      "Training until validation scores don't improve for 50 rounds\n",
      "Early stopping, best iteration is:\n",
      "[440]\tvalid_0's average_precision: 0.421294\tvalid_0's binary_logloss: 0.148022\n"
     ]
    },
    {
     "name": "stderr",
     "output_type": "stream",
     "text": [
      "[I 2025-04-14 19:21:31,816] Trial 91 finished with value: 0.42129369953784906 and parameters: {'n_estimators': 6119, 'learning_rate': 0.017608104927225327, 'max_depth': 7, 'num_leaves': 46, 'min_child_samples': 31, 'subsample': 0.9552281015955482, 'colsample_bytree': 0.566467471313446, 'reg_alpha': 2.8491765198411136, 'reg_lambda': 0.2789584482376162}. Best is trial 54 with value: 0.42208022428061287.\n"
     ]
    },
    {
     "name": "stdout",
     "output_type": "stream",
     "text": [
      "Training until validation scores don't improve for 50 rounds\n",
      "Early stopping, best iteration is:\n",
      "[443]\tvalid_0's average_precision: 0.420537\tvalid_0's binary_logloss: 0.14807\n"
     ]
    },
    {
     "name": "stderr",
     "output_type": "stream",
     "text": [
      "[I 2025-04-14 19:21:37,216] Trial 92 finished with value: 0.42053717073477526 and parameters: {'n_estimators': 13698, 'learning_rate': 0.015685023824291676, 'max_depth': 7, 'num_leaves': 68, 'min_child_samples': 29, 'subsample': 0.9254793176082841, 'colsample_bytree': 0.5573028708379829, 'reg_alpha': 6.314374364973638, 'reg_lambda': 0.05786380153877336}. Best is trial 54 with value: 0.42208022428061287.\n"
     ]
    },
    {
     "name": "stdout",
     "output_type": "stream",
     "text": [
      "Training until validation scores don't improve for 50 rounds\n",
      "Early stopping, best iteration is:\n",
      "[427]\tvalid_0's average_precision: 0.420309\tvalid_0's binary_logloss: 0.148181\n"
     ]
    },
    {
     "name": "stderr",
     "output_type": "stream",
     "text": [
      "[I 2025-04-14 19:21:42,093] Trial 93 finished with value: 0.4203088808474579 and parameters: {'n_estimators': 5423, 'learning_rate': 0.016446986229099066, 'max_depth': 9, 'num_leaves': 52, 'min_child_samples': 32, 'subsample': 0.9881882406834753, 'colsample_bytree': 0.6128694360343174, 'reg_alpha': 0.3242429926915235, 'reg_lambda': 0.08974627600291986}. Best is trial 54 with value: 0.42208022428061287.\n"
     ]
    },
    {
     "name": "stdout",
     "output_type": "stream",
     "text": [
      "Training until validation scores don't improve for 50 rounds\n",
      "Early stopping, best iteration is:\n",
      "[445]\tvalid_0's average_precision: 0.419748\tvalid_0's binary_logloss: 0.148346\n"
     ]
    },
    {
     "name": "stderr",
     "output_type": "stream",
     "text": [
      "[I 2025-04-14 19:21:47,522] Trial 94 finished with value: 0.41974815545161354 and parameters: {'n_estimators': 7159, 'learning_rate': 0.011803338283710248, 'max_depth': 6, 'num_leaves': 63, 'min_child_samples': 27, 'subsample': 0.962663297953334, 'colsample_bytree': 0.5467451579671987, 'reg_alpha': 0.13975577747952375, 'reg_lambda': 0.0023544882634504195}. Best is trial 54 with value: 0.42208022428061287.\n"
     ]
    },
    {
     "name": "stdout",
     "output_type": "stream",
     "text": [
      "Training until validation scores don't improve for 50 rounds\n",
      "Early stopping, best iteration is:\n",
      "[738]\tvalid_0's average_precision: 0.420973\tvalid_0's binary_logloss: 0.148192\n"
     ]
    },
    {
     "name": "stderr",
     "output_type": "stream",
     "text": [
      "[I 2025-04-14 19:21:54,751] Trial 95 finished with value: 0.42097286603337225 and parameters: {'n_estimators': 12076, 'learning_rate': 0.01061816408112058, 'max_depth': 5, 'num_leaves': 56, 'min_child_samples': 19, 'subsample': 0.9377608632673355, 'colsample_bytree': 0.5769361657217569, 'reg_alpha': 0.07421101995228727, 'reg_lambda': 0.0009794840573808608}. Best is trial 54 with value: 0.42208022428061287.\n"
     ]
    },
    {
     "name": "stdout",
     "output_type": "stream",
     "text": [
      "Training until validation scores don't improve for 50 rounds\n",
      "Early stopping, best iteration is:\n",
      "[495]\tvalid_0's average_precision: 0.42156\tvalid_0's binary_logloss: 0.148022\n"
     ]
    },
    {
     "name": "stderr",
     "output_type": "stream",
     "text": [
      "[I 2025-04-14 19:22:00,563] Trial 96 finished with value: 0.42156020843041003 and parameters: {'n_estimators': 11363, 'learning_rate': 0.01842063960073271, 'max_depth': 20, 'num_leaves': 36, 'min_child_samples': 26, 'subsample': 0.976945107511635, 'colsample_bytree': 0.5254336633753793, 'reg_alpha': 1.8588209216017653, 'reg_lambda': 0.024672328133409877}. Best is trial 54 with value: 0.42208022428061287.\n"
     ]
    },
    {
     "name": "stdout",
     "output_type": "stream",
     "text": [
      "Training until validation scores don't improve for 50 rounds\n",
      "Early stopping, best iteration is:\n",
      "[493]\tvalid_0's average_precision: 0.42052\tvalid_0's binary_logloss: 0.148061\n"
     ]
    },
    {
     "name": "stderr",
     "output_type": "stream",
     "text": [
      "[I 2025-04-14 19:22:06,356] Trial 97 finished with value: 0.42051983960940875 and parameters: {'n_estimators': 11319, 'learning_rate': 0.018746047122724797, 'max_depth': 20, 'num_leaves': 39, 'min_child_samples': 23, 'subsample': 0.9806917634095467, 'colsample_bytree': 0.5175065929266985, 'reg_alpha': 1.4182905917460937, 'reg_lambda': 0.016518775296117085}. Best is trial 54 with value: 0.42208022428061287.\n"
     ]
    },
    {
     "name": "stdout",
     "output_type": "stream",
     "text": [
      "Training until validation scores don't improve for 50 rounds\n",
      "Early stopping, best iteration is:\n",
      "[312]\tvalid_0's average_precision: 0.420676\tvalid_0's binary_logloss: 0.148178\n"
     ]
    },
    {
     "name": "stderr",
     "output_type": "stream",
     "text": [
      "[I 2025-04-14 19:22:10,328] Trial 98 finished with value: 0.4206762471482117 and parameters: {'n_estimators': 14632, 'learning_rate': 0.023892654086689197, 'max_depth': 23, 'num_leaves': 37, 'min_child_samples': 25, 'subsample': 0.9948088005177244, 'colsample_bytree': 0.5250624410682325, 'reg_alpha': 0.5991776388254295, 'reg_lambda': 0.0256905630964881}. Best is trial 54 with value: 0.42208022428061287.\n"
     ]
    },
    {
     "name": "stdout",
     "output_type": "stream",
     "text": [
      "Training until validation scores don't improve for 50 rounds\n",
      "Early stopping, best iteration is:\n",
      "[261]\tvalid_0's average_precision: 0.419534\tvalid_0's binary_logloss: 0.148177\n"
     ]
    },
    {
     "name": "stderr",
     "output_type": "stream",
     "text": [
      "[I 2025-04-14 19:22:14,066] Trial 99 finished with value: 0.4195341178285658 and parameters: {'n_estimators': 10335, 'learning_rate': 0.03115580729341645, 'max_depth': 18, 'num_leaves': 78, 'min_child_samples': 21, 'subsample': 0.9105474715059917, 'colsample_bytree': 0.5334977807834174, 'reg_alpha': 0.001104260765051382, 'reg_lambda': 0.004955418800913228}. Best is trial 54 with value: 0.42208022428061287.\n"
     ]
    },
    {
     "name": "stdout",
     "output_type": "stream",
     "text": [
      "Training until validation scores don't improve for 50 rounds\n",
      "Early stopping, best iteration is:\n",
      "[408]\tvalid_0's average_precision: 0.42208\tvalid_0's binary_logloss: 0.148142\n",
      "\n",
      "\n",
      " Best Score is 0.42208022428061287\n",
      "\n",
      "\n",
      " Best Hyperparameters are {'n_estimators': 12089, 'learning_rate': 0.0163757273134269, 'max_depth': 15, 'num_leaves': 67, 'min_child_samples': 31, 'subsample': 0.9386529732560875, 'colsample_bytree': 0.5992689431037025, 'reg_alpha': 0.010146950962660788, 'reg_lambda': 0.004455044347693195}\n",
      "\n",
      "\n",
      "              precision    recall  f1-score   support\n",
      "\n",
      "           0       0.96      0.99      0.97     83392\n",
      "           1       0.59      0.23      0.34      5022\n",
      "\n",
      "    accuracy                           0.95     88414\n",
      "   macro avg       0.77      0.61      0.65     88414\n",
      "weighted avg       0.93      0.95      0.94     88414\n",
      "\n"
     ]
    },
    {
     "data": {
      "image/png": "[encoded data removed]",
      "text/plain": [
       "<Figure size 800x600 with 1 Axes>"
      ]
     },
     "metadata": {},
     "output_type": "display_data"
    },
    {
     "data": {
      "application/vnd.microsoft.datawrangler.viewer.v0+json": {
       "columns": [
        {
         "name": "index",
         "rawType": "int64",
         "type": "integer"
        },
        {
         "name": "feature",
         "rawType": "object",
         "type": "string"
        },
        {
         "name": "importance_mean",
         "rawType": "float64",
         "type": "float"
        },
        {
         "name": "importance_std",
         "rawType": "float64",
         "type": "float"
        }
       ],
       "conversionMethod": "pd.DataFrame",
       "ref": "c4392d72-20b3-4a67-a241-4ca81470e086",
       "rows": [
        [
         "6",
         "HadAngina",
         "0.2603171394927953",
         "0.00246163688585591"
        ],
        [
         "25",
         "AgeCategory",
         "0.025429559067590903",
         "0.0015733709187435233"
        ],
        [
         "1",
         "Sex",
         "0.024968144865304583",
         "0.0015502577621930244"
        ],
        [
         "7",
         "HadStroke",
         "0.02072852559921549",
         "0.0012226757765532888"
        ],
        [
         "2",
         "GeneralHealth",
         "0.009091494506337255",
         "0.0015718259598966487"
        ],
        [
         "21",
         "SmokerStatus",
         "0.008521015599775344",
         "0.0012379757817055513"
        ],
        [
         "23",
         "ChestScan",
         "0.007871094219139545",
         "0.001223421860760775"
        ],
        [
         "5",
         "RemovedTeeth",
         "0.005621912370288723",
         "0.0003878004138064775"
        ],
        [
         "0",
         "State",
         "0.004424648916132168",
         "0.0008534258428123005"
        ],
        [
         "14",
         "HadDiabetes",
         "0.004219096413605167",
         "0.0010389067285808925"
        ],
        [
         "35",
         "SleepHours",
         "0.0021885859147376674",
         "0.0005237026261832681"
        ],
        [
         "28",
         "FluVaxLast12",
         "0.00185634209678196",
         "0.00039583875442307704"
        ],
        [
         "26",
         "AlcoholDrinkers",
         "0.0017219744024137063",
         "0.0004154295224912433"
        ],
        [
         "24",
         "RaceEthnicityCategory",
         "0.001242614687888416",
         "0.00047749178284522487"
        ],
        [
         "13",
         "HadArthritis",
         "0.0010391955476989124",
         "0.00033903824141547816"
        ],
        [
         "33",
         "PhysicalHealthDays",
         "0.0009689387447096853",
         "0.00036602298456523807"
        ],
        [
         "38",
         "BMI",
         "0.0009463723303723415",
         "0.00048674380330114"
        ],
        [
         "10",
         "HadCOPD",
         "0.0005892167486439614",
         "0.00037637086201850503"
        ],
        [
         "3",
         "LastCheckupTime",
         "0.0005165209307258001",
         "0.0002465753059838517"
        ],
        [
         "34",
         "MentalHealthDays",
         "0.000463137990438145",
         "0.0002627288199755387"
        ],
        [
         "20",
         "DifficultyErrands",
         "0.0004541390020253888",
         "5.5829298054222433e-05"
        ],
        [
         "32",
         "CovidPos",
         "0.00043283459393521074",
         "0.00031990716410922407"
        ],
        [
         "37",
         "WeightInKilograms",
         "0.0004104466524155359",
         "0.00040775099300813407"
        ],
        [
         "22",
         "ECigaretteUsage",
         "0.00034455766004043984",
         "0.00010235484980248003"
        ],
        [
         "12",
         "HadKidneyDisease",
         "0.0002944103968092193",
         "0.00021846224515498843"
        ],
        [
         "9",
         "HadSkinCancer",
         "0.00029222523418777623",
         "0.0002654629238058309"
        ],
        [
         "36",
         "HeightInMeters",
         "0.000288434019648115",
         "0.0006074136422998926"
        ],
        [
         "27",
         "HIVTesting",
         "0.0002675825744111571",
         "0.00015923903914733312"
        ],
        [
         "16",
         "BlindOrVisionDifficulty",
         "0.0001970549385744924",
         "0.00014174749040072438"
        ],
        [
         "19",
         "DifficultyDressingBathing",
         "0.0001835224386629142",
         "9.600914364961608e-05"
        ],
        [
         "8",
         "HadAsthma",
         "0.00015366975611850187",
         "0.00011037212942190034"
        ],
        [
         "29",
         "PneumoVaxEver",
         "0.00011869068063998788",
         "8.44535695886349e-05"
        ],
        [
         "17",
         "DifficultyConcentrating",
         "9.182072671167219e-05",
         "0.00018594226853438202"
        ],
        [
         "15",
         "DeafOrHardOfHearing",
         "8.174422530703995e-05",
         "0.00011215459955462217"
        ],
        [
         "31",
         "HighRiskLastYear",
         "4.4444774513763274e-06",
         "7.14024163728749e-05"
        ],
        [
         "30",
         "TetanusLast10Tdap",
         "-6.72189237144738e-06",
         "0.00023845580261077173"
        ],
        [
         "18",
         "DifficultyWalking",
         "-1.831716187873367e-05",
         "0.0002372440001938723"
        ],
        [
         "11",
         "HadDepressiveDisorder",
         "-3.799093622603999e-05",
         "6.71656905567757e-05"
        ],
        [
         "4",
         "PhysicalActivities",
         "-0.0003720546736925512",
         "0.0002674896651659319"
        ]
       ],
       "shape": {
        "columns": 3,
        "rows": 39
       }
      },
      "text/html": [
       "<div>\n",
       "<style scoped>\n",
       "    .dataframe tbody tr th:only-of-type {\n",
       "        vertical-align: middle;\n",
       "    }\n",
       "\n",
       "    .dataframe tbody tr th {\n",
       "        vertical-align: top;\n",
       "    }\n",
       "\n",
       "    .dataframe thead th {\n",
       "        text-align: right;\n",
       "    }\n",
       "</style>\n",
       "<table border=\"1\" class=\"dataframe\">\n",
       "  <thead>\n",
       "    <tr style=\"text-align: right;\">\n",
       "      <th></th>\n",
       "      <th>feature</th>\n",
       "      <th>importance_mean</th>\n",
       "      <th>importance_std</th>\n",
       "    </tr>\n",
       "  </thead>\n",
       "  <tbody>\n",
       "    <tr>\n",
       "      <th>6</th>\n",
       "      <td>HadAngina</td>\n",
       "      <td>0.260317</td>\n",
       "      <td>0.002462</td>\n",
       "    </tr>\n",
       "    <tr>\n",
       "      <th>25</th>\n",
       "      <td>AgeCategory</td>\n",
       "      <td>0.025430</td>\n",
       "      <td>0.001573</td>\n",
       "    </tr>\n",
       "    <tr>\n",
       "      <th>1</th>\n",
       "      <td>Sex</td>\n",
       "      <td>0.024968</td>\n",
       "      <td>0.001550</td>\n",
       "    </tr>\n",
       "    <tr>\n",
       "      <th>7</th>\n",
       "      <td>HadStroke</td>\n",
       "      <td>0.020729</td>\n",
       "      <td>0.001223</td>\n",
       "    </tr>\n",
       "    <tr>\n",
       "      <th>2</th>\n",
       "      <td>GeneralHealth</td>\n",
       "      <td>0.009091</td>\n",
       "      <td>0.001572</td>\n",
       "    </tr>\n",
       "    <tr>\n",
       "      <th>21</th>\n",
       "      <td>SmokerStatus</td>\n",
       "      <td>0.008521</td>\n",
       "      <td>0.001238</td>\n",
       "    </tr>\n",
       "    <tr>\n",
       "      <th>23</th>\n",
       "      <td>ChestScan</td>\n",
       "      <td>0.007871</td>\n",
       "      <td>0.001223</td>\n",
       "    </tr>\n",
       "    <tr>\n",
       "      <th>5</th>\n",
       "      <td>RemovedTeeth</td>\n",
       "      <td>0.005622</td>\n",
       "      <td>0.000388</td>\n",
       "    </tr>\n",
       "    <tr>\n",
       "      <th>0</th>\n",
       "      <td>State</td>\n",
       "      <td>0.004425</td>\n",
       "      <td>0.000853</td>\n",
       "    </tr>\n",
       "    <tr>\n",
       "      <th>14</th>\n",
       "      <td>HadDiabetes</td>\n",
       "      <td>0.004219</td>\n",
       "      <td>0.001039</td>\n",
       "    </tr>\n",
       "    <tr>\n",
       "      <th>35</th>\n",
       "      <td>SleepHours</td>\n",
       "      <td>0.002189</td>\n",
       "      <td>0.000524</td>\n",
       "    </tr>\n",
       "    <tr>\n",
       "      <th>28</th>\n",
       "      <td>FluVaxLast12</td>\n",
       "      <td>0.001856</td>\n",
       "      <td>0.000396</td>\n",
       "    </tr>\n",
       "    <tr>\n",
       "      <th>26</th>\n",
       "      <td>AlcoholDrinkers</td>\n",
       "      <td>0.001722</td>\n",
       "      <td>0.000415</td>\n",
       "    </tr>\n",
       "    <tr>\n",
       "      <th>24</th>\n",
       "      <td>RaceEthnicityCategory</td>\n",
       "      <td>0.001243</td>\n",
       "      <td>0.000477</td>\n",
       "    </tr>\n",
       "    <tr>\n",
       "      <th>13</th>\n",
       "      <td>HadArthritis</td>\n",
       "      <td>0.001039</td>\n",
       "      <td>0.000339</td>\n",
       "    </tr>\n",
       "    <tr>\n",
       "      <th>33</th>\n",
       "      <td>PhysicalHealthDays</td>\n",
       "      <td>0.000969</td>\n",
       "      <td>0.000366</td>\n",
       "    </tr>\n",
       "    <tr>\n",
       "      <th>38</th>\n",
       "      <td>BMI</td>\n",
       "      <td>0.000946</td>\n",
       "      <td>0.000487</td>\n",
       "    </tr>\n",
       "    <tr>\n",
       "      <th>10</th>\n",
       "      <td>HadCOPD</td>\n",
       "      <td>0.000589</td>\n",
       "      <td>0.000376</td>\n",
       "    </tr>\n",
       "    <tr>\n",
       "      <th>3</th>\n",
       "      <td>LastCheckupTime</td>\n",
       "      <td>0.000517</td>\n",
       "      <td>0.000247</td>\n",
       "    </tr>\n",
       "    <tr>\n",
       "      <th>34</th>\n",
       "      <td>MentalHealthDays</td>\n",
       "      <td>0.000463</td>\n",
       "      <td>0.000263</td>\n",
       "    </tr>\n",
       "    <tr>\n",
       "      <th>20</th>\n",
       "      <td>DifficultyErrands</td>\n",
       "      <td>0.000454</td>\n",
       "      <td>0.000056</td>\n",
       "    </tr>\n",
       "    <tr>\n",
       "      <th>32</th>\n",
       "      <td>CovidPos</td>\n",
       "      <td>0.000433</td>\n",
       "      <td>0.000320</td>\n",
       "    </tr>\n",
       "    <tr>\n",
       "      <th>37</th>\n",
       "      <td>WeightInKilograms</td>\n",
       "      <td>0.000410</td>\n",
       "      <td>0.000408</td>\n",
       "    </tr>\n",
       "    <tr>\n",
       "      <th>22</th>\n",
       "      <td>ECigaretteUsage</td>\n",
       "      <td>0.000345</td>\n",
       "      <td>0.000102</td>\n",
       "    </tr>\n",
       "    <tr>\n",
       "      <th>12</th>\n",
       "      <td>HadKidneyDisease</td>\n",
       "      <td>0.000294</td>\n",
       "      <td>0.000218</td>\n",
       "    </tr>\n",
       "    <tr>\n",
       "      <th>9</th>\n",
       "      <td>HadSkinCancer</td>\n",
       "      <td>0.000292</td>\n",
       "      <td>0.000265</td>\n",
       "    </tr>\n",
       "    <tr>\n",
       "      <th>36</th>\n",
       "      <td>HeightInMeters</td>\n",
       "      <td>0.000288</td>\n",
       "      <td>0.000607</td>\n",
       "    </tr>\n",
       "    <tr>\n",
       "      <th>27</th>\n",
       "      <td>HIVTesting</td>\n",
       "      <td>0.000268</td>\n",
       "      <td>0.000159</td>\n",
       "    </tr>\n",
       "    <tr>\n",
       "      <th>16</th>\n",
       "      <td>BlindOrVisionDifficulty</td>\n",
       "      <td>0.000197</td>\n",
       "      <td>0.000142</td>\n",
       "    </tr>\n",
       "    <tr>\n",
       "      <th>19</th>\n",
       "      <td>DifficultyDressingBathing</td>\n",
       "      <td>0.000184</td>\n",
       "      <td>0.000096</td>\n",
       "    </tr>\n",
       "    <tr>\n",
       "      <th>8</th>\n",
       "      <td>HadAsthma</td>\n",
       "      <td>0.000154</td>\n",
       "      <td>0.000110</td>\n",
       "    </tr>\n",
       "    <tr>\n",
       "      <th>29</th>\n",
       "      <td>PneumoVaxEver</td>\n",
       "      <td>0.000119</td>\n",
       "      <td>0.000084</td>\n",
       "    </tr>\n",
       "    <tr>\n",
       "      <th>17</th>\n",
       "      <td>DifficultyConcentrating</td>\n",
       "      <td>0.000092</td>\n",
       "      <td>0.000186</td>\n",
       "    </tr>\n",
       "    <tr>\n",
       "      <th>15</th>\n",
       "      <td>DeafOrHardOfHearing</td>\n",
       "      <td>0.000082</td>\n",
       "      <td>0.000112</td>\n",
       "    </tr>\n",
       "    <tr>\n",
       "      <th>31</th>\n",
       "      <td>HighRiskLastYear</td>\n",
       "      <td>0.000004</td>\n",
       "      <td>0.000071</td>\n",
       "    </tr>\n",
       "    <tr>\n",
       "      <th>30</th>\n",
       "      <td>TetanusLast10Tdap</td>\n",
       "      <td>-0.000007</td>\n",
       "      <td>0.000238</td>\n",
       "    </tr>\n",
       "    <tr>\n",
       "      <th>18</th>\n",
       "      <td>DifficultyWalking</td>\n",
       "      <td>-0.000018</td>\n",
       "      <td>0.000237</td>\n",
       "    </tr>\n",
       "    <tr>\n",
       "      <th>11</th>\n",
       "      <td>HadDepressiveDisorder</td>\n",
       "      <td>-0.000038</td>\n",
       "      <td>0.000067</td>\n",
       "    </tr>\n",
       "    <tr>\n",
       "      <th>4</th>\n",
       "      <td>PhysicalActivities</td>\n",
       "      <td>-0.000372</td>\n",
       "      <td>0.000267</td>\n",
       "    </tr>\n",
       "  </tbody>\n",
       "</table>\n",
       "</div>"
      ],
      "text/plain": [
       "                      feature  importance_mean  importance_std\n",
       "6                   HadAngina         0.260317        0.002462\n",
       "25                AgeCategory         0.025430        0.001573\n",
       "1                         Sex         0.024968        0.001550\n",
       "7                   HadStroke         0.020729        0.001223\n",
       "2               GeneralHealth         0.009091        0.001572\n",
       "21               SmokerStatus         0.008521        0.001238\n",
       "23                  ChestScan         0.007871        0.001223\n",
       "5                RemovedTeeth         0.005622        0.000388\n",
       "0                       State         0.004425        0.000853\n",
       "14                HadDiabetes         0.004219        0.001039\n",
       "35                 SleepHours         0.002189        0.000524\n",
       "28               FluVaxLast12         0.001856        0.000396\n",
       "26            AlcoholDrinkers         0.001722        0.000415\n",
       "24      RaceEthnicityCategory         0.001243        0.000477\n",
       "13               HadArthritis         0.001039        0.000339\n",
       "33         PhysicalHealthDays         0.000969        0.000366\n",
       "38                        BMI         0.000946        0.000487\n",
       "10                    HadCOPD         0.000589        0.000376\n",
       "3             LastCheckupTime         0.000517        0.000247\n",
       "34           MentalHealthDays         0.000463        0.000263\n",
       "20          DifficultyErrands         0.000454        0.000056\n",
       "32                   CovidPos         0.000433        0.000320\n",
       "37          WeightInKilograms         0.000410        0.000408\n",
       "22            ECigaretteUsage         0.000345        0.000102\n",
       "12           HadKidneyDisease         0.000294        0.000218\n",
       "9               HadSkinCancer         0.000292        0.000265\n",
       "36             HeightInMeters         0.000288        0.000607\n",
       "27                 HIVTesting         0.000268        0.000159\n",
       "16    BlindOrVisionDifficulty         0.000197        0.000142\n",
       "19  DifficultyDressingBathing         0.000184        0.000096\n",
       "8                   HadAsthma         0.000154        0.000110\n",
       "29              PneumoVaxEver         0.000119        0.000084\n",
       "17    DifficultyConcentrating         0.000092        0.000186\n",
       "15        DeafOrHardOfHearing         0.000082        0.000112\n",
       "31           HighRiskLastYear         0.000004        0.000071\n",
       "30          TetanusLast10Tdap        -0.000007        0.000238\n",
       "18          DifficultyWalking        -0.000018        0.000237\n",
       "11      HadDepressiveDisorder        -0.000038        0.000067\n",
       "4          PhysicalActivities        -0.000372        0.000267"
      ]
     },
     "metadata": {},
     "output_type": "display_data"
    },
    {
     "data": {
      "image/png": "[encoded data removed]",
      "text/plain": [
       "<Figure size 1200x1200 with 1 Axes>"
      ]
     },
     "metadata": {},
     "output_type": "display_data"
    }
   ],
   "source": [
    "\n",
    "# This is code to implement LGBM\n",
    "import numpy as np\n",
    "import pandas as pd\n",
    "from sklearn.model_selection import train_test_split\n",
    "from sklearn.preprocessing import LabelEncoder\n",
    "from sklearn.metrics import average_precision_score,precision_recall_curve, classification_report\n",
    "from lightgbm import LGBMClassifier, early_stopping\n",
    "import matplotlib.pyplot as plt\n",
    "import random\n",
    "\n",
    "\n",
    "\n",
    "# Set random seed for reproducablility\n",
    "seed = 88888\n",
    "np.random.seed(seed=seed)\n",
    "random.seed(a=seed)\n",
    "\n",
    "'''\n",
    "Start to preprocess the dataset. The LGBM can directly process categorical data\n",
    "and missing value in the features. Thus, there is no need to impute missing\n",
    "value in the features. However, this is not the case for the target. Also \n",
    "considering that missing value is small portion of the target (0.0069), \n",
    "in the preprocess, rows that contains the missing value in the target column \n",
    "were dropped.\n",
    "'''\n",
    "target = 'HadHeartAttack'\n",
    "df = pd.read_csv('heart_2022_with_nans.csv').dropna(subset=target)\n",
    "# Define X (features), and y (target).\n",
    "X = df.drop(columns=target)\n",
    "y = df[target]\n",
    "# LGBM can process categorical features directly. Transform data type from object\n",
    "# to category.\n",
    "categoryFeatures = X.select_dtypes(include='object').columns.tolist()\n",
    "numericalFeatures = X.select_dtypes(exclude='object').columns.tolist()\n",
    "X = X[categoryFeatures + numericalFeatures]\n",
    "for col in categoryFeatures:\n",
    "    X[col] = X[col].astype('category')\n",
    "# Although LGBM is able to deal with categorical features, scikit-learn cannot\n",
    "# accept the target as categorical feature. Using LabelEncoder to transform \n",
    "# target from string to int. LGBM will not be affected as it doesn't consider\n",
    "# ordinal relation in the target value by default setting.\n",
    "le = LabelEncoder()\n",
    "y = le.fit_transform(y)\n",
    "# Split dataset into train set and test set. The model will be trained on \n",
    "# train set only, and its performance and gerneralize ability will be tested\n",
    "# on test set. Random state ensure the replicatable results.  \n",
    "X_train, X_test, y_train, y_test = train_test_split(X, y, test_size=0.2, random_state=seed, stratify=y)\n",
    "# Use optuna to find optimal hyperparameter. The evaluation matric is area under \n",
    "# Precision-Recall Curve (PR-Curve) for positive case. This is because the target is \n",
    "# imbalanced, and if this model is used for medical suggestion, positive case\n",
    "# may be more important. It is feasible to use other matrics.\n",
    "# https://medium.com/cuenex/advanced-evaluation-metrics-for-imbalanced-classification-models-ee6f248c90ca\n",
    "\n",
    "import optuna\n",
    "sampler=optuna.samplers.TPESampler(seed=seed)\n",
    "\n",
    "# Define optuna objective\n",
    "def lgbm_search(trial):\n",
    "    # Define hyperparameter search space\n",
    "    params = {\n",
    "        # Trees that will be built\n",
    "        'n_estimators': trial.suggest_int('n_estimators', 100, 20000),\n",
    "        # It likes a step to move each time to find best model parameters (not hyperparameters)\n",
    "        'learning_rate': trial.suggest_float('learning_rate', 0.01, 0.1, log=True),\n",
    "        # The maximum depth that tree will grow\n",
    "        'max_depth': trial.suggest_int('max_depth', 5, 30),\n",
    "        # The maximum number of leaves for one tree\n",
    "        'num_leaves': trial.suggest_int('num_leaves', 20, 150),\n",
    "        # The minimum number of number on one leaf.\n",
    "        'min_child_samples': trial.suggest_int('min_child_samples', 5, 50),\n",
    "        # Determine the portion of train set be randomly selected and passed to each tree\n",
    "        # to avoid overfitting.\n",
    "        'subsample': trial.suggest_float('subsample', 0.5, 1.0),\n",
    "        # Determine the portion of features be passed to each tree to avoid overfitting.\n",
    "        'colsample_bytree': trial.suggest_float('colsample_bytree', 0.5, 1.0),\n",
    "        # L1 Regularization. Avoid overfitting.\n",
    "        'reg_alpha': trial.suggest_float('reg_alpha', 1e-8, 10.0, log=True),\n",
    "        # L2 Regularization. Avoid overfitting.\n",
    "        'reg_lambda': trial.suggest_float('reg_lambda', 1e-8, 10.0, log=True)\n",
    "    }\n",
    "    \n",
    "    # Define model to be optimized\n",
    "    model = LGBMClassifier(\n",
    "        **params, \n",
    "        objective='binary',\n",
    "        random_state=seed, \n",
    "        verbose=-1)\n",
    "    model.fit(\n",
    "        X_train, y_train,\n",
    "        eval_set=[(X_test, y_test)],\n",
    "        # Use Area Under Precision-Recall Curve to evaluate \n",
    "        eval_metric='average_precision',\n",
    "        # Configure a early stopping to save time and avoid overfitting \n",
    "        callbacks=[early_stopping(stopping_rounds=50)],\n",
    "    )\n",
    "    \n",
    "    # Define optuna evaluation matric, probs is predicted probabilities \n",
    "    # for positive class. The evaluation matric is still area under PR-Curve\n",
    "    # The 'average_precision_score' in scikit-learn is equivalent to \n",
    "    # 'average_precision' in LGBM.\n",
    "    probs = model.predict_proba(X_test)[:,1]\n",
    "    return average_precision_score(y_test, probs)\n",
    "\n",
    "# Define optuna study object, and direction is to maximize area under PR-Curve\n",
    "lgbm_study = optuna.create_study(direction='maximize', sampler=sampler)\n",
    "lgbm_study.optimize(lgbm_search, n_trials=100)\n",
    "\n",
    "\n",
    "# Use best hyperparameters to train model\n",
    "lgbm = LGBMClassifier(\n",
    "    **lgbm_study.best_params,\n",
    "    objective='binary',\n",
    "    random_state=seed,\n",
    "    )\n",
    "# Train\n",
    "lgbm.fit(\n",
    "    X_train, y_train,\n",
    "    eval_set=[(X_test, y_test)],\n",
    "    eval_metric='average_precision',\n",
    "    callbacks=[early_stopping(stopping_rounds=50)],\n",
    ")\n",
    "\n",
    "# Using model to predict whether had having heart attack on test set. \n",
    "lgbm_pred = lgbm.predict(X_test)\n",
    "# Using model to generate probabilities for positive case on test set.\n",
    "lgbm_probs = lgbm.predict_proba(X_test)[:,1]\n",
    "lgbm_score = average_precision_score(y_test, lgbm_probs)\n",
    "print(f'\\n\\n Best Score is {lgbm_score}')\n",
    "print(f'\\n\\n Best Hyperparameters are {lgbm_study.best_params}\\n\\n')\n",
    "# Show report of model where threshold is 0.5 (by default), 0 for negative prediction, 1 for positive prediction\n",
    "print(classification_report(y_test, lgbm_pred))\n",
    "\n",
    "# Calculate precision, recall, thresholds matrix, and plot them out. \n",
    "# Adding a vertical line shows value of recall when precision is 0.2.\n",
    "precision, recall, thresholds = precision_recall_curve(y_test, lgbm_probs)\n",
    "# Find the index where precision is closet to 0.2\n",
    "idx = np.argmin(np.abs(precision - 0.2))\n",
    "recall_at_precision_02 = recall[idx]\n",
    "plt.figure(figsize=(8, 6))\n",
    "plt.plot(recall, precision, marker='.', label='Precision-Recall Curve')\n",
    "plt.axvline(x=recall_at_precision_02, color='b', linestyle='--', label=f'Recall at Precision=0.2: {recall_at_precision_02:.2f}')\n",
    "plt.text(recall_at_precision_02, 0.1, f'{recall_at_precision_02:.2f}', color='b', fontsize=12, verticalalignment='bottom')\n",
    "plt.xlabel('Recall')\n",
    "plt.ylabel('Precision')\n",
    "plt.title('Precision-Recall Curve of LightGBM')\n",
    "plt.legend()\n",
    "plt.grid()\n",
    "plt.show()\n",
    "# Check permutation_importance provided by scikit-learn\n",
    "from sklearn.inspection import permutation_importance\n",
    "lgbm_importance = permutation_importance(\n",
    "    estimator=lgbm, \n",
    "    X=X_test, \n",
    "    y=y_test,\n",
    "    n_repeats=10,\n",
    "    random_state=seed,\n",
    "    scoring='average_precision'\n",
    "    )\n",
    "# Transform results of permutation_importance to dataframe for plot and sort\n",
    "lgbm_importance_df = pd.DataFrame({\n",
    "    'feature': X_test.columns,\n",
    "    'importance_mean': lgbm_importance.importances_mean,\n",
    "    'importance_std': lgbm_importance.importances_std\n",
    "})\n",
    "\n",
    "lgbm_importance_df = lgbm_importance_df.sort_values(by='importance_mean', ascending=False)\n",
    "display(lgbm_importance_df)\n",
    "# Plot a picture to visualize ferture importance\n",
    "plt.figure(figsize=(12, 12))\n",
    "bars = plt.barh(lgbm_importance_df['feature'], lgbm_importance_df['importance_mean'])\n",
    "for bar in bars:\n",
    "    plt.text(bar.get_width(),\n",
    "             bar.get_y() + bar.get_height() / 2,\n",
    "             f'{bar.get_width():.3f}',\n",
    "             va='center')\n",
    "plt.xlabel('Permutation Importance')\n",
    "plt.ylabel('Features')\n",
    "plt.title('Permutation Feature Importance of LightGBM')\n",
    "# Make most important feature show on the top\n",
    "plt.gca().invert_yaxis()\n",
    "plt.show()"
   ]
  }
 ],
 "metadata": {
  "kernelspec": {
   "display_name": "JS",
   "language": "python",
   "name": "python3"
  },
  "language_info": {
   "codemirror_mode": {
    "name": "ipython",
    "version": 3
   },
   "file_extension": ".py",
   "mimetype": "text/x-python",
   "name": "python",
   "nbconvert_exporter": "python",
   "pygments_lexer": "ipython3",
   "version": "3.10.13"
  }
 },
 "nbformat": 4,
 "nbformat_minor": 2
}
