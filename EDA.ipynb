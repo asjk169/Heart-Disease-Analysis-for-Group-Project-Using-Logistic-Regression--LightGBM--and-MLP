{
 "cells": [
  {
   "cell_type": "code",
   "execution_count": 1,
   "metadata": {},
   "outputs": [],
   "source": [
    "# This is code to implement LGBM\n",
    "import numpy as np\n",
    "import pandas as pd\n",
    "from sklearn.model_selection import train_test_split, GridSearchCV\n",
    "from sklearn.preprocessing import LabelEncoder\n",
    "from sklearn.metrics import *\n",
    "from lightgbm import LGBMClassifier, early_stopping\n",
    "import matplotlib.pyplot as plt\n",
    "\n",
    "\n",
    "origin = pd.read_csv('heart_2022_with_nans.csv')"
   ]
  },
  {
   "cell_type": "code",
   "execution_count": 2,
   "metadata": {},
   "outputs": [
    {
     "data": {
      "application/vnd.microsoft.datawrangler.viewer.v0+json": {
       "columns": [
        {
         "name": "index",
         "rawType": "int64",
         "type": "integer"
        },
        {
         "name": "Feature_1",
         "rawType": "object",
         "type": "string"
        },
        {
         "name": "Feature_2",
         "rawType": "object",
         "type": "string"
        },
        {
         "name": "Correlation",
         "rawType": "float64",
         "type": "float"
        }
       ],
       "conversionMethod": "pd.DataFrame",
       "ref": "18a403c2-ce0f-42c1-a25e-ed66cd7e3df2",
       "rows": [
        [
         "281",
         "WeightInKilograms",
         "BMI",
         "0.8595574121529904"
        ],
        [
         "349",
         "BMI",
         "WeightInKilograms",
         "0.8595574121529904"
        ]
       ],
       "shape": {
        "columns": 3,
        "rows": 2
       }
      },
      "text/html": [
       "<div>\n",
       "<style scoped>\n",
       "    .dataframe tbody tr th:only-of-type {\n",
       "        vertical-align: middle;\n",
       "    }\n",
       "\n",
       "    .dataframe tbody tr th {\n",
       "        vertical-align: top;\n",
       "    }\n",
       "\n",
       "    .dataframe thead th {\n",
       "        text-align: right;\n",
       "    }\n",
       "</style>\n",
       "<table border=\"1\" class=\"dataframe\">\n",
       "  <thead>\n",
       "    <tr style=\"text-align: right;\">\n",
       "      <th></th>\n",
       "      <th>Feature_1</th>\n",
       "      <th>Feature_2</th>\n",
       "      <th>Correlation</th>\n",
       "    </tr>\n",
       "  </thead>\n",
       "  <tbody>\n",
       "    <tr>\n",
       "      <th>281</th>\n",
       "      <td>WeightInKilograms</td>\n",
       "      <td>BMI</td>\n",
       "      <td>0.859557</td>\n",
       "    </tr>\n",
       "    <tr>\n",
       "      <th>349</th>\n",
       "      <td>BMI</td>\n",
       "      <td>WeightInKilograms</td>\n",
       "      <td>0.859557</td>\n",
       "    </tr>\n",
       "  </tbody>\n",
       "</table>\n",
       "</div>"
      ],
      "text/plain": [
       "             Feature_1          Feature_2  Correlation\n",
       "281  WeightInKilograms                BMI     0.859557\n",
       "349                BMI  WeightInKilograms     0.859557"
      ]
     },
     "execution_count": 2,
     "metadata": {},
     "output_type": "execute_result"
    }
   ],
   "source": [
    "# Check correlation between features after one-hot encoding (get_dummies),\n",
    "# and filter out feature pairs whose correlation is greater than 0.7. It found\n",
    "# out BMI and WeightInKilograms have high correlation. However, I tried to \n",
    "# train model with or without WeightInKilograms, and it exhibited no much \n",
    "# differences in model performance and permutation importance.\n",
    "df_corr = origin.copy()\n",
    "df_corr = df_corr.drop(columns='State')\n",
    "df_corr = pd.get_dummies(df_corr, drop_first=True)\n",
    "corr_matrix = df_corr.corr()\n",
    "corr_pairs = corr_matrix.abs().stack().reset_index()\n",
    "corr_pairs.columns = ['Feature_1', 'Feature_2', 'Correlation']\n",
    "corr_pairs[(corr_pairs['Correlation'] >= 0.7) & (corr_pairs['Correlation'] != 1)]"
   ]
  },
  {
   "cell_type": "code",
   "execution_count": 3,
   "metadata": {},
   "outputs": [
    {
     "data": {
      "text/plain": [
       "No     0.936709\n",
       "Yes    0.056406\n",
       "NaN    0.006886\n",
       "Name: HadHeartAttack, dtype: float64"
      ]
     },
     "execution_count": 3,
     "metadata": {},
     "output_type": "execute_result"
    }
   ],
   "source": [
    "# The target is imbalanced and contains NaN\n",
    "origin['HadHeartAttack'].value_counts(normalize=True, dropna=False)"
   ]
  },
  {
   "cell_type": "code",
   "execution_count": 4,
   "metadata": {},
   "outputs": [
    {
     "data": {
      "text/plain": [
       "['State',\n",
       " 'Sex',\n",
       " 'GeneralHealth',\n",
       " 'PhysicalHealthDays',\n",
       " 'MentalHealthDays',\n",
       " 'LastCheckupTime',\n",
       " 'PhysicalActivities',\n",
       " 'SleepHours',\n",
       " 'RemovedTeeth',\n",
       " 'HadHeartAttack',\n",
       " 'HadAngina',\n",
       " 'HadStroke',\n",
       " 'HadAsthma',\n",
       " 'HadSkinCancer',\n",
       " 'HadCOPD',\n",
       " 'HadDepressiveDisorder',\n",
       " 'HadKidneyDisease',\n",
       " 'HadArthritis',\n",
       " 'HadDiabetes',\n",
       " 'DeafOrHardOfHearing',\n",
       " 'BlindOrVisionDifficulty',\n",
       " 'DifficultyConcentrating',\n",
       " 'DifficultyWalking',\n",
       " 'DifficultyDressingBathing',\n",
       " 'DifficultyErrands',\n",
       " 'SmokerStatus',\n",
       " 'ECigaretteUsage',\n",
       " 'ChestScan',\n",
       " 'RaceEthnicityCategory',\n",
       " 'AgeCategory',\n",
       " 'HeightInMeters',\n",
       " 'WeightInKilograms',\n",
       " 'BMI',\n",
       " 'AlcoholDrinkers',\n",
       " 'HIVTesting',\n",
       " 'FluVaxLast12',\n",
       " 'PneumoVaxEver',\n",
       " 'TetanusLast10Tdap',\n",
       " 'HighRiskLastYear',\n",
       " 'CovidPos']"
      ]
     },
     "execution_count": 4,
     "metadata": {},
     "output_type": "execute_result"
    }
   ],
   "source": [
    "origin.columns.tolist()"
   ]
  },
  {
   "cell_type": "code",
   "execution_count": 5,
   "metadata": {},
   "outputs": [],
   "source": [
    "target = 'HadHeartAttack'\n",
    "df = origin.copy()\n",
    "X = df.drop(columns=target)\n",
    "categoryFeatures = X.select_dtypes(include='object').columns.tolist()\n",
    "numericalFeatures = X.select_dtypes(exclude='object').columns.tolist()"
   ]
  },
  {
   "cell_type": "code",
   "execution_count": 6,
   "metadata": {},
   "outputs": [],
   "source": [
    "X = X[categoryFeatures + numericalFeatures]"
   ]
  },
  {
   "cell_type": "code",
   "execution_count": 7,
   "metadata": {},
   "outputs": [
    {
     "name": "stdout",
     "output_type": "stream",
     "text": [
      "<class 'pandas.core.frame.DataFrame'>\n",
      "RangeIndex: 445132 entries, 0 to 445131\n",
      "Data columns (total 39 columns):\n",
      " #   Column                     Non-Null Count   Dtype  \n",
      "---  ------                     --------------   -----  \n",
      " 0   State                      445132 non-null  object \n",
      " 1   Sex                        445132 non-null  object \n",
      " 2   GeneralHealth              443934 non-null  object \n",
      " 3   LastCheckupTime            436824 non-null  object \n",
      " 4   PhysicalActivities         444039 non-null  object \n",
      " 5   RemovedTeeth               433772 non-null  object \n",
      " 6   HadAngina                  440727 non-null  object \n",
      " 7   HadStroke                  443575 non-null  object \n",
      " 8   HadAsthma                  443359 non-null  object \n",
      " 9   HadSkinCancer              441989 non-null  object \n",
      " 10  HadCOPD                    442913 non-null  object \n",
      " 11  HadDepressiveDisorder      442320 non-null  object \n",
      " 12  HadKidneyDisease           443206 non-null  object \n",
      " 13  HadArthritis               442499 non-null  object \n",
      " 14  HadDiabetes                444045 non-null  object \n",
      " 15  DeafOrHardOfHearing        424485 non-null  object \n",
      " 16  BlindOrVisionDifficulty    423568 non-null  object \n",
      " 17  DifficultyConcentrating    420892 non-null  object \n",
      " 18  DifficultyWalking          421120 non-null  object \n",
      " 19  DifficultyDressingBathing  421217 non-null  object \n",
      " 20  DifficultyErrands          419476 non-null  object \n",
      " 21  SmokerStatus               409670 non-null  object \n",
      " 22  ECigaretteUsage            409472 non-null  object \n",
      " 23  ChestScan                  389086 non-null  object \n",
      " 24  RaceEthnicityCategory      431075 non-null  object \n",
      " 25  AgeCategory                436053 non-null  object \n",
      " 26  AlcoholDrinkers            398558 non-null  object \n",
      " 27  HIVTesting                 379005 non-null  object \n",
      " 28  FluVaxLast12               398011 non-null  object \n",
      " 29  PneumoVaxEver              368092 non-null  object \n",
      " 30  TetanusLast10Tdap          362616 non-null  object \n",
      " 31  HighRiskLastYear           394509 non-null  object \n",
      " 32  CovidPos                   394368 non-null  object \n",
      " 33  PhysicalHealthDays         434205 non-null  float64\n",
      " 34  MentalHealthDays           436065 non-null  float64\n",
      " 35  SleepHours                 439679 non-null  float64\n",
      " 36  HeightInMeters             416480 non-null  float64\n",
      " 37  WeightInKilograms          403054 non-null  float64\n",
      " 38  BMI                        396326 non-null  float64\n",
      "dtypes: float64(6), object(33)\n",
      "memory usage: 132.4+ MB\n"
     ]
    }
   ],
   "source": [
    "X.info()"
   ]
  },
  {
   "cell_type": "code",
   "execution_count": 8,
   "metadata": {},
   "outputs": [
    {
     "data": {
      "text/plain": [
       "10927"
      ]
     },
     "execution_count": 8,
     "metadata": {},
     "output_type": "execute_result"
    }
   ],
   "source": [
    "X.iloc[:,33].isna().sum()"
   ]
  },
  {
   "cell_type": "code",
   "execution_count": 9,
   "metadata": {},
   "outputs": [
    {
     "data": {
      "text/plain": [
       "count    396326.000000\n",
       "mean         28.529842\n",
       "std           6.554889\n",
       "min          12.020000\n",
       "25%          24.130000\n",
       "50%          27.440000\n",
       "75%          31.750000\n",
       "max          99.640000\n",
       "Name: BMI, dtype: float64"
      ]
     },
     "execution_count": 9,
     "metadata": {},
     "output_type": "execute_result"
    }
   ],
   "source": [
    "X.iloc[:,38].describe()"
   ]
  },
  {
   "cell_type": "code",
   "execution_count": 10,
   "metadata": {},
   "outputs": [
    {
     "data": {
      "text/plain": [
       "12.02    0.000002\n",
       "12.05    0.000002\n",
       "12.06    0.000002\n",
       "12.11    0.000007\n",
       "12.15    0.000002\n",
       "           ...   \n",
       "97.43    0.000002\n",
       "97.65    0.000011\n",
       "99.34    0.000002\n",
       "99.64    0.000002\n",
       "NaN      0.109644\n",
       "Name: BMI, Length: 3986, dtype: float64"
      ]
     },
     "execution_count": 10,
     "metadata": {},
     "output_type": "execute_result"
    }
   ],
   "source": [
    "X.iloc[:,38].value_counts(normalize=True, dropna=False).sort_index()"
   ]
  },
  {
   "cell_type": "code",
   "execution_count": 11,
   "metadata": {},
   "outputs": [
    {
     "data": {
      "text/plain": [
       "['PhysicalHealthDays',\n",
       " 'MentalHealthDays',\n",
       " 'SleepHours',\n",
       " 'HeightInMeters',\n",
       " 'WeightInKilograms',\n",
       " 'BMI']"
      ]
     },
     "execution_count": 11,
     "metadata": {},
     "output_type": "execute_result"
    }
   ],
   "source": [
    "numericalFeatures"
   ]
  }
 ],
 "metadata": {
  "kernelspec": {
   "display_name": "JS",
   "language": "python",
   "name": "python3"
  },
  "language_info": {
   "codemirror_mode": {
    "name": "ipython",
    "version": 3
   },
   "file_extension": ".py",
   "mimetype": "text/x-python",
   "name": "python",
   "nbconvert_exporter": "python",
   "pygments_lexer": "ipython3",
   "version": "3.10.13"
  }
 },
 "nbformat": 4,
 "nbformat_minor": 2
}
